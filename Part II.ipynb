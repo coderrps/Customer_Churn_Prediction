{
 "cells": [
  {
   "cell_type": "code",
   "execution_count": 57,
   "id": "275ea55d",
   "metadata": {},
   "outputs": [],
   "source": [
    "import numpy as np\n",
    "import pandas as pd\n",
    "import seaborn as sns\n",
    "import matplotlib\n",
    "from matplotlib import pyplot as plt\n",
    "from sklearn.model_selection import train_test_split\n",
    "from sklearn.preprocessing import StandardScaler, LabelEncoder\n",
    "from sklearn.linear_model import LogisticRegression\n",
    "from sklearn.tree import DecisionTreeClassifier\n",
    "from sklearn.ensemble import RandomForestClassifier\n",
    "from sklearn.metrics import accuracy_score, confusion_matrix, classification_report\n",
    "import xgboost as xgb\n",
    "from keras.models import Sequential\n",
    "from keras.layers import Dense\n",
    "from sklearn.metrics import accuracy_score, precision_score, recall_score, f1_score, roc_auc_score, confusion_matrix, classification_report"
   ]
  },
  {
   "cell_type": "code",
   "execution_count": 58,
   "id": "1d86b37a",
   "metadata": {},
   "outputs": [],
   "source": [
    "data = pd.read_csv('CustomerChurnData.csv')"
   ]
  },
  {
   "cell_type": "code",
   "execution_count": 59,
   "id": "4658e37a",
   "metadata": {},
   "outputs": [
    {
     "data": {
      "text/html": [
       "<div>\n",
       "<style scoped>\n",
       "    .dataframe tbody tr th:only-of-type {\n",
       "        vertical-align: middle;\n",
       "    }\n",
       "\n",
       "    .dataframe tbody tr th {\n",
       "        vertical-align: top;\n",
       "    }\n",
       "\n",
       "    .dataframe thead th {\n",
       "        text-align: right;\n",
       "    }\n",
       "</style>\n",
       "<table border=\"1\" class=\"dataframe\">\n",
       "  <thead>\n",
       "    <tr style=\"text-align: right;\">\n",
       "      <th></th>\n",
       "      <th>AccountID</th>\n",
       "      <th>Churn</th>\n",
       "      <th>Tenure</th>\n",
       "      <th>City_Tier</th>\n",
       "      <th>CC_Contacted_LY</th>\n",
       "      <th>Payment</th>\n",
       "      <th>Gender</th>\n",
       "      <th>Service_Score</th>\n",
       "      <th>Account_user_count</th>\n",
       "      <th>account_segment</th>\n",
       "      <th>CC_Agent_Score</th>\n",
       "      <th>Marital_Status</th>\n",
       "      <th>rev_per_month</th>\n",
       "      <th>Complain_ly</th>\n",
       "      <th>rev_growth_yoy</th>\n",
       "      <th>coupon_used_for_payment</th>\n",
       "      <th>Day_Since_CC_connect</th>\n",
       "      <th>cashback</th>\n",
       "      <th>Login_device</th>\n",
       "    </tr>\n",
       "  </thead>\n",
       "  <tbody>\n",
       "    <tr>\n",
       "      <th>0</th>\n",
       "      <td>20000</td>\n",
       "      <td>1</td>\n",
       "      <td>4.0</td>\n",
       "      <td>3.0</td>\n",
       "      <td>6.0</td>\n",
       "      <td>Debit Card</td>\n",
       "      <td>Female</td>\n",
       "      <td>3.0</td>\n",
       "      <td>3.0</td>\n",
       "      <td>Super</td>\n",
       "      <td>2.0</td>\n",
       "      <td>Single</td>\n",
       "      <td>9.0</td>\n",
       "      <td>1.0</td>\n",
       "      <td>11</td>\n",
       "      <td>1</td>\n",
       "      <td>5.0</td>\n",
       "      <td>160.0</td>\n",
       "      <td>Mobile</td>\n",
       "    </tr>\n",
       "    <tr>\n",
       "      <th>1</th>\n",
       "      <td>20001</td>\n",
       "      <td>1</td>\n",
       "      <td>0.0</td>\n",
       "      <td>1.0</td>\n",
       "      <td>8.0</td>\n",
       "      <td>UPI</td>\n",
       "      <td>Male</td>\n",
       "      <td>3.0</td>\n",
       "      <td>4.0</td>\n",
       "      <td>Regular Plus</td>\n",
       "      <td>3.0</td>\n",
       "      <td>Single</td>\n",
       "      <td>7.0</td>\n",
       "      <td>1.0</td>\n",
       "      <td>15</td>\n",
       "      <td>0</td>\n",
       "      <td>0.0</td>\n",
       "      <td>121.0</td>\n",
       "      <td>Mobile</td>\n",
       "    </tr>\n",
       "    <tr>\n",
       "      <th>2</th>\n",
       "      <td>20002</td>\n",
       "      <td>1</td>\n",
       "      <td>0.0</td>\n",
       "      <td>1.0</td>\n",
       "      <td>30.0</td>\n",
       "      <td>Debit Card</td>\n",
       "      <td>Male</td>\n",
       "      <td>2.0</td>\n",
       "      <td>4.0</td>\n",
       "      <td>Regular Plus</td>\n",
       "      <td>3.0</td>\n",
       "      <td>Single</td>\n",
       "      <td>6.0</td>\n",
       "      <td>1.0</td>\n",
       "      <td>14</td>\n",
       "      <td>0</td>\n",
       "      <td>3.0</td>\n",
       "      <td>NaN</td>\n",
       "      <td>Mobile</td>\n",
       "    </tr>\n",
       "    <tr>\n",
       "      <th>3</th>\n",
       "      <td>20003</td>\n",
       "      <td>1</td>\n",
       "      <td>0.0</td>\n",
       "      <td>3.0</td>\n",
       "      <td>15.0</td>\n",
       "      <td>Debit Card</td>\n",
       "      <td>Male</td>\n",
       "      <td>2.0</td>\n",
       "      <td>4.0</td>\n",
       "      <td>Super</td>\n",
       "      <td>5.0</td>\n",
       "      <td>Single</td>\n",
       "      <td>8.0</td>\n",
       "      <td>0.0</td>\n",
       "      <td>23</td>\n",
       "      <td>0</td>\n",
       "      <td>3.0</td>\n",
       "      <td>134.0</td>\n",
       "      <td>Mobile</td>\n",
       "    </tr>\n",
       "    <tr>\n",
       "      <th>4</th>\n",
       "      <td>20004</td>\n",
       "      <td>1</td>\n",
       "      <td>0.0</td>\n",
       "      <td>1.0</td>\n",
       "      <td>12.0</td>\n",
       "      <td>Credit Card</td>\n",
       "      <td>Male</td>\n",
       "      <td>2.0</td>\n",
       "      <td>3.0</td>\n",
       "      <td>Regular Plus</td>\n",
       "      <td>5.0</td>\n",
       "      <td>Single</td>\n",
       "      <td>3.0</td>\n",
       "      <td>0.0</td>\n",
       "      <td>11</td>\n",
       "      <td>1</td>\n",
       "      <td>3.0</td>\n",
       "      <td>130.0</td>\n",
       "      <td>Mobile</td>\n",
       "    </tr>\n",
       "  </tbody>\n",
       "</table>\n",
       "</div>"
      ],
      "text/plain": [
       "   AccountID  Churn  Tenure  City_Tier  CC_Contacted_LY      Payment  Gender   \n",
       "0      20000      1     4.0        3.0              6.0   Debit Card  Female  \\\n",
       "1      20001      1     0.0        1.0              8.0          UPI    Male   \n",
       "2      20002      1     0.0        1.0             30.0   Debit Card    Male   \n",
       "3      20003      1     0.0        3.0             15.0   Debit Card    Male   \n",
       "4      20004      1     0.0        1.0             12.0  Credit Card    Male   \n",
       "\n",
       "   Service_Score  Account_user_count account_segment  CC_Agent_Score   \n",
       "0            3.0                 3.0           Super             2.0  \\\n",
       "1            3.0                 4.0    Regular Plus             3.0   \n",
       "2            2.0                 4.0    Regular Plus             3.0   \n",
       "3            2.0                 4.0           Super             5.0   \n",
       "4            2.0                 3.0    Regular Plus             5.0   \n",
       "\n",
       "  Marital_Status  rev_per_month  Complain_ly  rev_growth_yoy   \n",
       "0         Single            9.0          1.0              11  \\\n",
       "1         Single            7.0          1.0              15   \n",
       "2         Single            6.0          1.0              14   \n",
       "3         Single            8.0          0.0              23   \n",
       "4         Single            3.0          0.0              11   \n",
       "\n",
       "  coupon_used_for_payment  Day_Since_CC_connect  cashback Login_device  \n",
       "0                       1                   5.0     160.0       Mobile  \n",
       "1                       0                   0.0     121.0       Mobile  \n",
       "2                       0                   3.0       NaN       Mobile  \n",
       "3                       0                   3.0     134.0       Mobile  \n",
       "4                       1                   3.0     130.0       Mobile  "
      ]
     },
     "execution_count": 59,
     "metadata": {},
     "output_type": "execute_result"
    }
   ],
   "source": [
    "data.head()"
   ]
  },
  {
   "cell_type": "code",
   "execution_count": 60,
   "id": "9a900d39",
   "metadata": {},
   "outputs": [
    {
     "name": "stdout",
     "output_type": "stream",
     "text": [
      "The shape of the data is: (11260, 19)\n",
      "\n",
      "\n",
      "<class 'pandas.core.frame.DataFrame'>\n",
      "RangeIndex: 11260 entries, 0 to 11259\n",
      "Data columns (total 19 columns):\n",
      " #   Column                   Non-Null Count  Dtype  \n",
      "---  ------                   --------------  -----  \n",
      " 0   AccountID                11260 non-null  int64  \n",
      " 1   Churn                    11260 non-null  int64  \n",
      " 2   Tenure                   11158 non-null  float64\n",
      " 3   City_Tier                11148 non-null  float64\n",
      " 4   CC_Contacted_LY          11158 non-null  float64\n",
      " 5   Payment                  11151 non-null  object \n",
      " 6   Gender                   11152 non-null  object \n",
      " 7   Service_Score            11162 non-null  float64\n",
      " 8   Account_user_count       11148 non-null  float64\n",
      " 9   account_segment          11163 non-null  object \n",
      " 10  CC_Agent_Score           11144 non-null  float64\n",
      " 11  Marital_Status           11048 non-null  object \n",
      " 12  rev_per_month            11158 non-null  float64\n",
      " 13  Complain_ly              10903 non-null  float64\n",
      " 14  rev_growth_yoy           11260 non-null  int64  \n",
      " 15  coupon_used_for_payment  11260 non-null  object \n",
      " 16  Day_Since_CC_connect     10903 non-null  float64\n",
      " 17  cashback                 10789 non-null  float64\n",
      " 18  Login_device             11039 non-null  object \n",
      "dtypes: float64(10), int64(3), object(6)\n",
      "memory usage: 1.6+ MB\n",
      "The information of the data is: None\n",
      "\n",
      "\n",
      "The columns of the data is: Index(['AccountID', 'Churn', 'Tenure', 'City_Tier', 'CC_Contacted_LY',\n",
      "       'Payment', 'Gender', 'Service_Score', 'Account_user_count',\n",
      "       'account_segment', 'CC_Agent_Score', 'Marital_Status', 'rev_per_month',\n",
      "       'Complain_ly', 'rev_growth_yoy', 'coupon_used_for_payment',\n",
      "       'Day_Since_CC_connect', 'cashback', 'Login_device'],\n",
      "      dtype='object')\n",
      "\n",
      "\n",
      "The statistical analysis of the dataset:          AccountID         Churn        Tenure     City_Tier  CC_Contacted_LY   \n",
      "count  11260.00000  11260.000000  11158.000000  11148.000000     11158.000000  \\\n",
      "mean   25629.50000      0.168384     10.910468      1.653929        17.867091   \n",
      "std     3250.62635      0.374223     12.861364      0.915015         8.853269   \n",
      "min    20000.00000      0.000000      0.000000      1.000000         4.000000   \n",
      "25%    22814.75000      0.000000      2.000000      1.000000        11.000000   \n",
      "50%    25629.50000      0.000000      8.000000      1.000000        16.000000   \n",
      "75%    28444.25000      0.000000     16.000000      3.000000        23.000000   \n",
      "max    31259.00000      1.000000     99.000000      3.000000       132.000000   \n",
      "\n",
      "       Service_Score  Account_user_count  CC_Agent_Score  rev_per_month   \n",
      "count   11162.000000        11148.000000    11144.000000   11158.000000  \\\n",
      "mean        2.902526            3.582885        3.066493       5.969708   \n",
      "std         0.725584            1.187175        1.379772      11.637306   \n",
      "min         0.000000            0.000000        1.000000       0.000000   \n",
      "25%         2.000000            3.000000        2.000000       3.000000   \n",
      "50%         3.000000            4.000000        3.000000       4.000000   \n",
      "75%         3.000000            4.000000        4.000000       7.000000   \n",
      "max         5.000000            6.000000        5.000000     140.000000   \n",
      "\n",
      "        Complain_ly  rev_growth_yoy  Day_Since_CC_connect      cashback  \n",
      "count  10903.000000    11260.000000          10903.000000  10789.000000  \n",
      "mean       0.285334       16.189076              4.632762    196.198999  \n",
      "std        0.451594        3.766505              3.697733    178.660296  \n",
      "min        0.000000        0.000000              0.000000      0.000000  \n",
      "25%        0.000000       13.000000              2.000000    147.000000  \n",
      "50%        0.000000       15.000000              3.000000    165.000000  \n",
      "75%        1.000000       19.000000              8.000000    200.000000  \n",
      "max        1.000000       28.000000             47.000000   1997.000000  \n"
     ]
    }
   ],
   "source": [
    "print(\"The shape of the data is:\", data.shape)\n",
    "print(\"\\n\")\n",
    "print(\"The information of the data is:\", data.info())\n",
    "print(\"\\n\")\n",
    "print(\"The columns of the data is:\", data.columns)\n",
    "print(\"\\n\")\n",
    "print(\"The statistical analysis of the dataset:\", data.describe())"
   ]
  },
  {
   "cell_type": "code",
   "execution_count": 61,
   "id": "3fae5377",
   "metadata": {},
   "outputs": [
    {
     "name": "stdout",
     "output_type": "stream",
     "text": [
      "The null values present in each column: \n"
     ]
    },
    {
     "data": {
      "text/plain": [
       "cashback                471\n",
       "Complain_ly             357\n",
       "Day_Since_CC_connect    357\n",
       "Login_device            221\n",
       "Marital_Status          212\n",
       "CC_Agent_Score          116\n",
       "City_Tier               112\n",
       "Account_user_count      112\n",
       "Payment                 109\n",
       "Gender                  108\n",
       "Tenure                  102\n",
       "CC_Contacted_LY         102\n",
       "rev_per_month           102\n",
       "Service_Score            98\n",
       "account_segment          97\n",
       "dtype: int64"
      ]
     },
     "execution_count": 61,
     "metadata": {},
     "output_type": "execute_result"
    }
   ],
   "source": [
    "print(\"The null values present in each column: \")\n",
    "dataNa = data.isnull().sum()\n",
    "dataNa[dataNa.values > 0].sort_values(ascending=False)"
   ]
  },
  {
   "cell_type": "markdown",
   "id": "c3e561f6",
   "metadata": {},
   "source": [
    "# Handling Null Values"
   ]
  },
  {
   "cell_type": "code",
   "execution_count": 62,
   "id": "04371525",
   "metadata": {},
   "outputs": [],
   "source": [
    "data.replace('*', np.nan, inplace=True)"
   ]
  },
  {
   "cell_type": "code",
   "execution_count": 63,
   "id": "9fcb1f2b",
   "metadata": {},
   "outputs": [
    {
     "data": {
      "text/plain": [
       "AccountID                  0\n",
       "Churn                      0\n",
       "Tenure                     0\n",
       "City_Tier                  0\n",
       "CC_Contacted_LY            0\n",
       "Payment                    0\n",
       "Gender                     0\n",
       "Service_Score              0\n",
       "Account_user_count         0\n",
       "account_segment            0\n",
       "CC_Agent_Score             0\n",
       "Marital_Status             0\n",
       "rev_per_month              0\n",
       "Complain_ly                0\n",
       "rev_growth_yoy             0\n",
       "coupon_used_for_payment    0\n",
       "Day_Since_CC_connect       0\n",
       "cashback                   0\n",
       "Login_device               0\n",
       "dtype: int64"
      ]
     },
     "execution_count": 63,
     "metadata": {},
     "output_type": "execute_result"
    }
   ],
   "source": [
    "data.dropna(inplace=True)\n",
    "data.isnull().sum()"
   ]
  },
  {
   "cell_type": "markdown",
   "id": "e731b92c",
   "metadata": {},
   "source": [
    "# Label Encoding"
   ]
  },
  {
   "cell_type": "code",
   "execution_count": 64,
   "id": "6fd896bc",
   "metadata": {},
   "outputs": [],
   "source": [
    "label_encoder = LabelEncoder()\n",
    "categorical_cols = ['City_Tier', 'Payment', 'Gender', 'Marital_Status', 'Login_device', 'account_segment']\n",
    "for col in categorical_cols:\n",
    "    if col in data.columns:\n",
    "        data[col] = label_encoder.fit_transform(data[col])\n",
    "    else:\n",
    "        print(f\"Column '{col}' not found in DataFrame.\")"
   ]
  },
  {
   "cell_type": "markdown",
   "id": "c97fe14f",
   "metadata": {},
   "source": [
    "# Training and Testing"
   ]
  },
  {
   "cell_type": "code",
   "execution_count": 65,
   "id": "a13bfd71",
   "metadata": {},
   "outputs": [],
   "source": [
    "X = data.drop(['AccountID', 'Churn', 'Marital_Status'], axis=1)\n",
    "y = data['Churn']"
   ]
  },
  {
   "cell_type": "code",
   "execution_count": 66,
   "id": "c4ec3a30",
   "metadata": {},
   "outputs": [],
   "source": [
    "X_train, X_test, y_train, y_test = train_test_split(X, y, test_size=0.3, random_state=42)"
   ]
  },
  {
   "cell_type": "code",
   "execution_count": 67,
   "id": "15314325",
   "metadata": {},
   "outputs": [
    {
     "data": {
      "text/html": [
       "<div>\n",
       "<style scoped>\n",
       "    .dataframe tbody tr th:only-of-type {\n",
       "        vertical-align: middle;\n",
       "    }\n",
       "\n",
       "    .dataframe tbody tr th {\n",
       "        vertical-align: top;\n",
       "    }\n",
       "\n",
       "    .dataframe thead th {\n",
       "        text-align: right;\n",
       "    }\n",
       "</style>\n",
       "<table border=\"1\" class=\"dataframe\">\n",
       "  <thead>\n",
       "    <tr style=\"text-align: right;\">\n",
       "      <th></th>\n",
       "      <th>Tenure</th>\n",
       "      <th>City_Tier</th>\n",
       "      <th>CC_Contacted_LY</th>\n",
       "      <th>Payment</th>\n",
       "      <th>Gender</th>\n",
       "      <th>Service_Score</th>\n",
       "      <th>Account_user_count</th>\n",
       "      <th>account_segment</th>\n",
       "      <th>CC_Agent_Score</th>\n",
       "      <th>rev_per_month</th>\n",
       "      <th>Complain_ly</th>\n",
       "      <th>rev_growth_yoy</th>\n",
       "      <th>coupon_used_for_payment</th>\n",
       "      <th>Day_Since_CC_connect</th>\n",
       "      <th>cashback</th>\n",
       "      <th>Login_device</th>\n",
       "    </tr>\n",
       "  </thead>\n",
       "  <tbody>\n",
       "    <tr>\n",
       "      <th>1335</th>\n",
       "      <td>2.0</td>\n",
       "      <td>0</td>\n",
       "      <td>34.0</td>\n",
       "      <td>1</td>\n",
       "      <td>0</td>\n",
       "      <td>3.0</td>\n",
       "      <td>4.0</td>\n",
       "      <td>2</td>\n",
       "      <td>5.0</td>\n",
       "      <td>2.0</td>\n",
       "      <td>0.0</td>\n",
       "      <td>14</td>\n",
       "      <td>0</td>\n",
       "      <td>4.0</td>\n",
       "      <td>138.0</td>\n",
       "      <td>1</td>\n",
       "    </tr>\n",
       "    <tr>\n",
       "      <th>5166</th>\n",
       "      <td>13.0</td>\n",
       "      <td>0</td>\n",
       "      <td>35.0</td>\n",
       "      <td>2</td>\n",
       "      <td>1</td>\n",
       "      <td>4.0</td>\n",
       "      <td>5.0</td>\n",
       "      <td>3</td>\n",
       "      <td>5.0</td>\n",
       "      <td>5.0</td>\n",
       "      <td>0.0</td>\n",
       "      <td>21</td>\n",
       "      <td>1</td>\n",
       "      <td>4.0</td>\n",
       "      <td>168.0</td>\n",
       "      <td>0</td>\n",
       "    </tr>\n",
       "    <tr>\n",
       "      <th>10945</th>\n",
       "      <td>13.0</td>\n",
       "      <td>0</td>\n",
       "      <td>17.0</td>\n",
       "      <td>1</td>\n",
       "      <td>1</td>\n",
       "      <td>4.0</td>\n",
       "      <td>5.0</td>\n",
       "      <td>3</td>\n",
       "      <td>3.0</td>\n",
       "      <td>5.0</td>\n",
       "      <td>0.0</td>\n",
       "      <td>18</td>\n",
       "      <td>1</td>\n",
       "      <td>8.0</td>\n",
       "      <td>163.0</td>\n",
       "      <td>1</td>\n",
       "    </tr>\n",
       "    <tr>\n",
       "      <th>4965</th>\n",
       "      <td>19.0</td>\n",
       "      <td>2</td>\n",
       "      <td>16.0</td>\n",
       "      <td>2</td>\n",
       "      <td>0</td>\n",
       "      <td>4.0</td>\n",
       "      <td>5.0</td>\n",
       "      <td>3</td>\n",
       "      <td>3.0</td>\n",
       "      <td>3.0</td>\n",
       "      <td>0.0</td>\n",
       "      <td>14</td>\n",
       "      <td>5</td>\n",
       "      <td>13.0</td>\n",
       "      <td>181.0</td>\n",
       "      <td>0</td>\n",
       "    </tr>\n",
       "    <tr>\n",
       "      <th>8729</th>\n",
       "      <td>16.0</td>\n",
       "      <td>0</td>\n",
       "      <td>42.0</td>\n",
       "      <td>2</td>\n",
       "      <td>0</td>\n",
       "      <td>4.0</td>\n",
       "      <td>4.0</td>\n",
       "      <td>3</td>\n",
       "      <td>3.0</td>\n",
       "      <td>6.0</td>\n",
       "      <td>0.0</td>\n",
       "      <td>12</td>\n",
       "      <td>2</td>\n",
       "      <td>3.0</td>\n",
       "      <td>174.0</td>\n",
       "      <td>0</td>\n",
       "    </tr>\n",
       "    <tr>\n",
       "      <th>...</th>\n",
       "      <td>...</td>\n",
       "      <td>...</td>\n",
       "      <td>...</td>\n",
       "      <td>...</td>\n",
       "      <td>...</td>\n",
       "      <td>...</td>\n",
       "      <td>...</td>\n",
       "      <td>...</td>\n",
       "      <td>...</td>\n",
       "      <td>...</td>\n",
       "      <td>...</td>\n",
       "      <td>...</td>\n",
       "      <td>...</td>\n",
       "      <td>...</td>\n",
       "      <td>...</td>\n",
       "      <td>...</td>\n",
       "    </tr>\n",
       "    <tr>\n",
       "      <th>7423</th>\n",
       "      <td>13.0</td>\n",
       "      <td>0</td>\n",
       "      <td>15.0</td>\n",
       "      <td>2</td>\n",
       "      <td>0</td>\n",
       "      <td>3.0</td>\n",
       "      <td>3.0</td>\n",
       "      <td>4</td>\n",
       "      <td>3.0</td>\n",
       "      <td>10.0</td>\n",
       "      <td>0.0</td>\n",
       "      <td>16</td>\n",
       "      <td>4</td>\n",
       "      <td>13.0</td>\n",
       "      <td>232.0</td>\n",
       "      <td>1</td>\n",
       "    </tr>\n",
       "    <tr>\n",
       "      <th>6719</th>\n",
       "      <td>17.0</td>\n",
       "      <td>0</td>\n",
       "      <td>15.0</td>\n",
       "      <td>2</td>\n",
       "      <td>0</td>\n",
       "      <td>3.0</td>\n",
       "      <td>1.0</td>\n",
       "      <td>0</td>\n",
       "      <td>1.0</td>\n",
       "      <td>3.0</td>\n",
       "      <td>1.0</td>\n",
       "      <td>21</td>\n",
       "      <td>6</td>\n",
       "      <td>7.0</td>\n",
       "      <td>183.0</td>\n",
       "      <td>1</td>\n",
       "    </tr>\n",
       "    <tr>\n",
       "      <th>6979</th>\n",
       "      <td>0.0</td>\n",
       "      <td>0</td>\n",
       "      <td>14.0</td>\n",
       "      <td>1</td>\n",
       "      <td>1</td>\n",
       "      <td>2.0</td>\n",
       "      <td>3.0</td>\n",
       "      <td>2</td>\n",
       "      <td>4.0</td>\n",
       "      <td>12.0</td>\n",
       "      <td>0.0</td>\n",
       "      <td>13</td>\n",
       "      <td>1</td>\n",
       "      <td>2.0</td>\n",
       "      <td>142.0</td>\n",
       "      <td>1</td>\n",
       "    </tr>\n",
       "    <tr>\n",
       "      <th>1101</th>\n",
       "      <td>5.0</td>\n",
       "      <td>0</td>\n",
       "      <td>16.0</td>\n",
       "      <td>2</td>\n",
       "      <td>1</td>\n",
       "      <td>2.0</td>\n",
       "      <td>3.0</td>\n",
       "      <td>2</td>\n",
       "      <td>3.0</td>\n",
       "      <td>7.0</td>\n",
       "      <td>0.0</td>\n",
       "      <td>13</td>\n",
       "      <td>0</td>\n",
       "      <td>3.0</td>\n",
       "      <td>134.0</td>\n",
       "      <td>0</td>\n",
       "    </tr>\n",
       "    <tr>\n",
       "      <th>9425</th>\n",
       "      <td>7.0</td>\n",
       "      <td>2</td>\n",
       "      <td>18.0</td>\n",
       "      <td>2</td>\n",
       "      <td>1</td>\n",
       "      <td>3.0</td>\n",
       "      <td>4.0</td>\n",
       "      <td>3</td>\n",
       "      <td>5.0</td>\n",
       "      <td>5.0</td>\n",
       "      <td>0.0</td>\n",
       "      <td>15</td>\n",
       "      <td>3</td>\n",
       "      <td>3.0</td>\n",
       "      <td>193.0</td>\n",
       "      <td>1</td>\n",
       "    </tr>\n",
       "  </tbody>\n",
       "</table>\n",
       "<p>6092 rows × 16 columns</p>\n",
       "</div>"
      ],
      "text/plain": [
       "       Tenure  City_Tier  CC_Contacted_LY  Payment  Gender  Service_Score   \n",
       "1335      2.0          0             34.0        1       0            3.0  \\\n",
       "5166     13.0          0             35.0        2       1            4.0   \n",
       "10945    13.0          0             17.0        1       1            4.0   \n",
       "4965     19.0          2             16.0        2       0            4.0   \n",
       "8729     16.0          0             42.0        2       0            4.0   \n",
       "...       ...        ...              ...      ...     ...            ...   \n",
       "7423     13.0          0             15.0        2       0            3.0   \n",
       "6719     17.0          0             15.0        2       0            3.0   \n",
       "6979      0.0          0             14.0        1       1            2.0   \n",
       "1101      5.0          0             16.0        2       1            2.0   \n",
       "9425      7.0          2             18.0        2       1            3.0   \n",
       "\n",
       "       Account_user_count  account_segment  CC_Agent_Score  rev_per_month   \n",
       "1335                  4.0                2             5.0            2.0  \\\n",
       "5166                  5.0                3             5.0            5.0   \n",
       "10945                 5.0                3             3.0            5.0   \n",
       "4965                  5.0                3             3.0            3.0   \n",
       "8729                  4.0                3             3.0            6.0   \n",
       "...                   ...              ...             ...            ...   \n",
       "7423                  3.0                4             3.0           10.0   \n",
       "6719                  1.0                0             1.0            3.0   \n",
       "6979                  3.0                2             4.0           12.0   \n",
       "1101                  3.0                2             3.0            7.0   \n",
       "9425                  4.0                3             5.0            5.0   \n",
       "\n",
       "       Complain_ly  rev_growth_yoy coupon_used_for_payment   \n",
       "1335           0.0              14                       0  \\\n",
       "5166           0.0              21                       1   \n",
       "10945          0.0              18                       1   \n",
       "4965           0.0              14                       5   \n",
       "8729           0.0              12                       2   \n",
       "...            ...             ...                     ...   \n",
       "7423           0.0              16                       4   \n",
       "6719           1.0              21                       6   \n",
       "6979           0.0              13                       1   \n",
       "1101           0.0              13                       0   \n",
       "9425           0.0              15                       3   \n",
       "\n",
       "       Day_Since_CC_connect  cashback  Login_device  \n",
       "1335                    4.0     138.0             1  \n",
       "5166                    4.0     168.0             0  \n",
       "10945                   8.0     163.0             1  \n",
       "4965                   13.0     181.0             0  \n",
       "8729                    3.0     174.0             0  \n",
       "...                     ...       ...           ...  \n",
       "7423                   13.0     232.0             1  \n",
       "6719                    7.0     183.0             1  \n",
       "6979                    2.0     142.0             1  \n",
       "1101                    3.0     134.0             0  \n",
       "9425                    3.0     193.0             1  \n",
       "\n",
       "[6092 rows x 16 columns]"
      ]
     },
     "execution_count": 67,
     "metadata": {},
     "output_type": "execute_result"
    }
   ],
   "source": [
    "X_train"
   ]
  },
  {
   "cell_type": "code",
   "execution_count": 68,
   "id": "07569ec6",
   "metadata": {},
   "outputs": [
    {
     "data": {
      "text/html": [
       "<div>\n",
       "<style scoped>\n",
       "    .dataframe tbody tr th:only-of-type {\n",
       "        vertical-align: middle;\n",
       "    }\n",
       "\n",
       "    .dataframe tbody tr th {\n",
       "        vertical-align: top;\n",
       "    }\n",
       "\n",
       "    .dataframe thead th {\n",
       "        text-align: right;\n",
       "    }\n",
       "</style>\n",
       "<table border=\"1\" class=\"dataframe\">\n",
       "  <thead>\n",
       "    <tr style=\"text-align: right;\">\n",
       "      <th></th>\n",
       "      <th>Tenure</th>\n",
       "      <th>City_Tier</th>\n",
       "      <th>CC_Contacted_LY</th>\n",
       "      <th>Payment</th>\n",
       "      <th>Gender</th>\n",
       "      <th>Service_Score</th>\n",
       "      <th>Account_user_count</th>\n",
       "      <th>account_segment</th>\n",
       "      <th>CC_Agent_Score</th>\n",
       "      <th>rev_per_month</th>\n",
       "      <th>Complain_ly</th>\n",
       "      <th>rev_growth_yoy</th>\n",
       "      <th>coupon_used_for_payment</th>\n",
       "      <th>Day_Since_CC_connect</th>\n",
       "      <th>cashback</th>\n",
       "      <th>Login_device</th>\n",
       "    </tr>\n",
       "  </thead>\n",
       "  <tbody>\n",
       "    <tr>\n",
       "      <th>3917</th>\n",
       "      <td>5.0</td>\n",
       "      <td>0</td>\n",
       "      <td>9.0</td>\n",
       "      <td>2</td>\n",
       "      <td>1</td>\n",
       "      <td>4.0</td>\n",
       "      <td>4.0</td>\n",
       "      <td>2</td>\n",
       "      <td>3.0</td>\n",
       "      <td>3.0</td>\n",
       "      <td>0.0</td>\n",
       "      <td>15</td>\n",
       "      <td>1</td>\n",
       "      <td>4.0</td>\n",
       "      <td>160.0</td>\n",
       "      <td>1</td>\n",
       "    </tr>\n",
       "    <tr>\n",
       "      <th>2793</th>\n",
       "      <td>14.0</td>\n",
       "      <td>2</td>\n",
       "      <td>9.0</td>\n",
       "      <td>2</td>\n",
       "      <td>1</td>\n",
       "      <td>2.0</td>\n",
       "      <td>4.0</td>\n",
       "      <td>3</td>\n",
       "      <td>4.0</td>\n",
       "      <td>3.0</td>\n",
       "      <td>0.0</td>\n",
       "      <td>11</td>\n",
       "      <td>1</td>\n",
       "      <td>4.0</td>\n",
       "      <td>189.0</td>\n",
       "      <td>1</td>\n",
       "    </tr>\n",
       "    <tr>\n",
       "      <th>7232</th>\n",
       "      <td>13.0</td>\n",
       "      <td>0</td>\n",
       "      <td>12.0</td>\n",
       "      <td>1</td>\n",
       "      <td>1</td>\n",
       "      <td>2.0</td>\n",
       "      <td>3.0</td>\n",
       "      <td>1</td>\n",
       "      <td>3.0</td>\n",
       "      <td>1.0</td>\n",
       "      <td>0.0</td>\n",
       "      <td>19</td>\n",
       "      <td>3</td>\n",
       "      <td>9.0</td>\n",
       "      <td>298.0</td>\n",
       "      <td>1</td>\n",
       "    </tr>\n",
       "    <tr>\n",
       "      <th>1702</th>\n",
       "      <td>0.0</td>\n",
       "      <td>2</td>\n",
       "      <td>6.0</td>\n",
       "      <td>0</td>\n",
       "      <td>0</td>\n",
       "      <td>3.0</td>\n",
       "      <td>0.0</td>\n",
       "      <td>2</td>\n",
       "      <td>4.0</td>\n",
       "      <td>0.0</td>\n",
       "      <td>1.0</td>\n",
       "      <td>11</td>\n",
       "      <td>1</td>\n",
       "      <td>2.0</td>\n",
       "      <td>122.0</td>\n",
       "      <td>2</td>\n",
       "    </tr>\n",
       "    <tr>\n",
       "      <th>7128</th>\n",
       "      <td>18.0</td>\n",
       "      <td>0</td>\n",
       "      <td>21.0</td>\n",
       "      <td>2</td>\n",
       "      <td>1</td>\n",
       "      <td>2.0</td>\n",
       "      <td>3.0</td>\n",
       "      <td>3</td>\n",
       "      <td>4.0</td>\n",
       "      <td>13.0</td>\n",
       "      <td>0.0</td>\n",
       "      <td>20</td>\n",
       "      <td>1</td>\n",
       "      <td>15.0</td>\n",
       "      <td>130.0</td>\n",
       "      <td>1</td>\n",
       "    </tr>\n",
       "    <tr>\n",
       "      <th>...</th>\n",
       "      <td>...</td>\n",
       "      <td>...</td>\n",
       "      <td>...</td>\n",
       "      <td>...</td>\n",
       "      <td>...</td>\n",
       "      <td>...</td>\n",
       "      <td>...</td>\n",
       "      <td>...</td>\n",
       "      <td>...</td>\n",
       "      <td>...</td>\n",
       "      <td>...</td>\n",
       "      <td>...</td>\n",
       "      <td>...</td>\n",
       "      <td>...</td>\n",
       "      <td>...</td>\n",
       "      <td>...</td>\n",
       "    </tr>\n",
       "    <tr>\n",
       "      <th>3209</th>\n",
       "      <td>3.0</td>\n",
       "      <td>0</td>\n",
       "      <td>7.0</td>\n",
       "      <td>2</td>\n",
       "      <td>1</td>\n",
       "      <td>4.0</td>\n",
       "      <td>6.0</td>\n",
       "      <td>2</td>\n",
       "      <td>2.0</td>\n",
       "      <td>3.0</td>\n",
       "      <td>0.0</td>\n",
       "      <td>19</td>\n",
       "      <td>3</td>\n",
       "      <td>9.0</td>\n",
       "      <td>152.0</td>\n",
       "      <td>0</td>\n",
       "    </tr>\n",
       "    <tr>\n",
       "      <th>7464</th>\n",
       "      <td>99.0</td>\n",
       "      <td>0</td>\n",
       "      <td>19.0</td>\n",
       "      <td>4</td>\n",
       "      <td>1</td>\n",
       "      <td>2.0</td>\n",
       "      <td>4.0</td>\n",
       "      <td>4</td>\n",
       "      <td>1.0</td>\n",
       "      <td>7.0</td>\n",
       "      <td>1.0</td>\n",
       "      <td>16</td>\n",
       "      <td>1</td>\n",
       "      <td>0.0</td>\n",
       "      <td>273.0</td>\n",
       "      <td>1</td>\n",
       "    </tr>\n",
       "    <tr>\n",
       "      <th>4296</th>\n",
       "      <td>15.0</td>\n",
       "      <td>0</td>\n",
       "      <td>15.0</td>\n",
       "      <td>2</td>\n",
       "      <td>1</td>\n",
       "      <td>3.0</td>\n",
       "      <td>6.0</td>\n",
       "      <td>0</td>\n",
       "      <td>1.0</td>\n",
       "      <td>4.0</td>\n",
       "      <td>0.0</td>\n",
       "      <td>16</td>\n",
       "      <td>2</td>\n",
       "      <td>4.0</td>\n",
       "      <td>232.0</td>\n",
       "      <td>0</td>\n",
       "    </tr>\n",
       "    <tr>\n",
       "      <th>7080</th>\n",
       "      <td>30.0</td>\n",
       "      <td>1</td>\n",
       "      <td>12.0</td>\n",
       "      <td>4</td>\n",
       "      <td>0</td>\n",
       "      <td>2.0</td>\n",
       "      <td>4.0</td>\n",
       "      <td>1</td>\n",
       "      <td>1.0</td>\n",
       "      <td>13.0</td>\n",
       "      <td>0.0</td>\n",
       "      <td>23</td>\n",
       "      <td>0</td>\n",
       "      <td>2.0</td>\n",
       "      <td>290.0</td>\n",
       "      <td>0</td>\n",
       "    </tr>\n",
       "    <tr>\n",
       "      <th>10252</th>\n",
       "      <td>8.0</td>\n",
       "      <td>2</td>\n",
       "      <td>33.0</td>\n",
       "      <td>2</td>\n",
       "      <td>1</td>\n",
       "      <td>4.0</td>\n",
       "      <td>2.0</td>\n",
       "      <td>3</td>\n",
       "      <td>1.0</td>\n",
       "      <td>4.0</td>\n",
       "      <td>0.0</td>\n",
       "      <td>14</td>\n",
       "      <td>1</td>\n",
       "      <td>8.0</td>\n",
       "      <td>181.0</td>\n",
       "      <td>1</td>\n",
       "    </tr>\n",
       "  </tbody>\n",
       "</table>\n",
       "<p>2612 rows × 16 columns</p>\n",
       "</div>"
      ],
      "text/plain": [
       "       Tenure  City_Tier  CC_Contacted_LY  Payment  Gender  Service_Score   \n",
       "3917      5.0          0              9.0        2       1            4.0  \\\n",
       "2793     14.0          2              9.0        2       1            2.0   \n",
       "7232     13.0          0             12.0        1       1            2.0   \n",
       "1702      0.0          2              6.0        0       0            3.0   \n",
       "7128     18.0          0             21.0        2       1            2.0   \n",
       "...       ...        ...              ...      ...     ...            ...   \n",
       "3209      3.0          0              7.0        2       1            4.0   \n",
       "7464     99.0          0             19.0        4       1            2.0   \n",
       "4296     15.0          0             15.0        2       1            3.0   \n",
       "7080     30.0          1             12.0        4       0            2.0   \n",
       "10252     8.0          2             33.0        2       1            4.0   \n",
       "\n",
       "       Account_user_count  account_segment  CC_Agent_Score  rev_per_month   \n",
       "3917                  4.0                2             3.0            3.0  \\\n",
       "2793                  4.0                3             4.0            3.0   \n",
       "7232                  3.0                1             3.0            1.0   \n",
       "1702                  0.0                2             4.0            0.0   \n",
       "7128                  3.0                3             4.0           13.0   \n",
       "...                   ...              ...             ...            ...   \n",
       "3209                  6.0                2             2.0            3.0   \n",
       "7464                  4.0                4             1.0            7.0   \n",
       "4296                  6.0                0             1.0            4.0   \n",
       "7080                  4.0                1             1.0           13.0   \n",
       "10252                 2.0                3             1.0            4.0   \n",
       "\n",
       "       Complain_ly  rev_growth_yoy coupon_used_for_payment   \n",
       "3917           0.0              15                       1  \\\n",
       "2793           0.0              11                       1   \n",
       "7232           0.0              19                       3   \n",
       "1702           1.0              11                       1   \n",
       "7128           0.0              20                       1   \n",
       "...            ...             ...                     ...   \n",
       "3209           0.0              19                       3   \n",
       "7464           1.0              16                       1   \n",
       "4296           0.0              16                       2   \n",
       "7080           0.0              23                       0   \n",
       "10252          0.0              14                       1   \n",
       "\n",
       "       Day_Since_CC_connect  cashback  Login_device  \n",
       "3917                    4.0     160.0             1  \n",
       "2793                    4.0     189.0             1  \n",
       "7232                    9.0     298.0             1  \n",
       "1702                    2.0     122.0             2  \n",
       "7128                   15.0     130.0             1  \n",
       "...                     ...       ...           ...  \n",
       "3209                    9.0     152.0             0  \n",
       "7464                    0.0     273.0             1  \n",
       "4296                    4.0     232.0             0  \n",
       "7080                    2.0     290.0             0  \n",
       "10252                   8.0     181.0             1  \n",
       "\n",
       "[2612 rows x 16 columns]"
      ]
     },
     "execution_count": 68,
     "metadata": {},
     "output_type": "execute_result"
    }
   ],
   "source": [
    "X_test"
   ]
  },
  {
   "cell_type": "code",
   "execution_count": 69,
   "id": "cf332f7d",
   "metadata": {},
   "outputs": [
    {
     "data": {
      "text/plain": [
       "1335     0\n",
       "5166     1\n",
       "10945    0\n",
       "4965     0\n",
       "8729     0\n",
       "        ..\n",
       "7423     0\n",
       "6719     0\n",
       "6979     0\n",
       "1101     0\n",
       "9425     0\n",
       "Name: Churn, Length: 6092, dtype: int64"
      ]
     },
     "execution_count": 69,
     "metadata": {},
     "output_type": "execute_result"
    }
   ],
   "source": [
    "y_train"
   ]
  },
  {
   "cell_type": "code",
   "execution_count": 70,
   "id": "1d5a86c6",
   "metadata": {},
   "outputs": [
    {
     "data": {
      "text/plain": [
       "3917     0\n",
       "2793     0\n",
       "7232     0\n",
       "1702     1\n",
       "7128     0\n",
       "        ..\n",
       "3209     0\n",
       "7464     0\n",
       "4296     1\n",
       "7080     0\n",
       "10252    0\n",
       "Name: Churn, Length: 2612, dtype: int64"
      ]
     },
     "execution_count": 70,
     "metadata": {},
     "output_type": "execute_result"
    }
   ],
   "source": [
    "y_test"
   ]
  },
  {
   "cell_type": "markdown",
   "id": "2c9e5695",
   "metadata": {},
   "source": [
    "# Feature Scaling"
   ]
  },
  {
   "cell_type": "code",
   "execution_count": 71,
   "id": "10cde12e",
   "metadata": {},
   "outputs": [],
   "source": [
    "scaler = StandardScaler()\n",
    "X_train_scaled = scaler.fit_transform(X_train)\n",
    "X_test_scaled = scaler.transform(X_test)"
   ]
  },
  {
   "cell_type": "markdown",
   "id": "8ca62010",
   "metadata": {},
   "source": [
    "# Logistic Regression Model Training"
   ]
  },
  {
   "cell_type": "code",
   "execution_count": 72,
   "id": "a3e0614b",
   "metadata": {},
   "outputs": [
    {
     "data": {
      "text/html": [
       "<style>#sk-container-id-5 {color: black;background-color: white;}#sk-container-id-5 pre{padding: 0;}#sk-container-id-5 div.sk-toggleable {background-color: white;}#sk-container-id-5 label.sk-toggleable__label {cursor: pointer;display: block;width: 100%;margin-bottom: 0;padding: 0.3em;box-sizing: border-box;text-align: center;}#sk-container-id-5 label.sk-toggleable__label-arrow:before {content: \"▸\";float: left;margin-right: 0.25em;color: #696969;}#sk-container-id-5 label.sk-toggleable__label-arrow:hover:before {color: black;}#sk-container-id-5 div.sk-estimator:hover label.sk-toggleable__label-arrow:before {color: black;}#sk-container-id-5 div.sk-toggleable__content {max-height: 0;max-width: 0;overflow: hidden;text-align: left;background-color: #f0f8ff;}#sk-container-id-5 div.sk-toggleable__content pre {margin: 0.2em;color: black;border-radius: 0.25em;background-color: #f0f8ff;}#sk-container-id-5 input.sk-toggleable__control:checked~div.sk-toggleable__content {max-height: 200px;max-width: 100%;overflow: auto;}#sk-container-id-5 input.sk-toggleable__control:checked~label.sk-toggleable__label-arrow:before {content: \"▾\";}#sk-container-id-5 div.sk-estimator input.sk-toggleable__control:checked~label.sk-toggleable__label {background-color: #d4ebff;}#sk-container-id-5 div.sk-label input.sk-toggleable__control:checked~label.sk-toggleable__label {background-color: #d4ebff;}#sk-container-id-5 input.sk-hidden--visually {border: 0;clip: rect(1px 1px 1px 1px);clip: rect(1px, 1px, 1px, 1px);height: 1px;margin: -1px;overflow: hidden;padding: 0;position: absolute;width: 1px;}#sk-container-id-5 div.sk-estimator {font-family: monospace;background-color: #f0f8ff;border: 1px dotted black;border-radius: 0.25em;box-sizing: border-box;margin-bottom: 0.5em;}#sk-container-id-5 div.sk-estimator:hover {background-color: #d4ebff;}#sk-container-id-5 div.sk-parallel-item::after {content: \"\";width: 100%;border-bottom: 1px solid gray;flex-grow: 1;}#sk-container-id-5 div.sk-label:hover label.sk-toggleable__label {background-color: #d4ebff;}#sk-container-id-5 div.sk-serial::before {content: \"\";position: absolute;border-left: 1px solid gray;box-sizing: border-box;top: 0;bottom: 0;left: 50%;z-index: 0;}#sk-container-id-5 div.sk-serial {display: flex;flex-direction: column;align-items: center;background-color: white;padding-right: 0.2em;padding-left: 0.2em;position: relative;}#sk-container-id-5 div.sk-item {position: relative;z-index: 1;}#sk-container-id-5 div.sk-parallel {display: flex;align-items: stretch;justify-content: center;background-color: white;position: relative;}#sk-container-id-5 div.sk-item::before, #sk-container-id-5 div.sk-parallel-item::before {content: \"\";position: absolute;border-left: 1px solid gray;box-sizing: border-box;top: 0;bottom: 0;left: 50%;z-index: -1;}#sk-container-id-5 div.sk-parallel-item {display: flex;flex-direction: column;z-index: 1;position: relative;background-color: white;}#sk-container-id-5 div.sk-parallel-item:first-child::after {align-self: flex-end;width: 50%;}#sk-container-id-5 div.sk-parallel-item:last-child::after {align-self: flex-start;width: 50%;}#sk-container-id-5 div.sk-parallel-item:only-child::after {width: 0;}#sk-container-id-5 div.sk-dashed-wrapped {border: 1px dashed gray;margin: 0 0.4em 0.5em 0.4em;box-sizing: border-box;padding-bottom: 0.4em;background-color: white;}#sk-container-id-5 div.sk-label label {font-family: monospace;font-weight: bold;display: inline-block;line-height: 1.2em;}#sk-container-id-5 div.sk-label-container {text-align: center;}#sk-container-id-5 div.sk-container {/* jupyter's `normalize.less` sets `[hidden] { display: none; }` but bootstrap.min.css set `[hidden] { display: none !important; }` so we also need the `!important` here to be able to override the default hidden behavior on the sphinx rendered scikit-learn.org. See: https://github.com/scikit-learn/scikit-learn/issues/21755 */display: inline-block !important;position: relative;}#sk-container-id-5 div.sk-text-repr-fallback {display: none;}</style><div id=\"sk-container-id-5\" class=\"sk-top-container\"><div class=\"sk-text-repr-fallback\"><pre>LogisticRegression()</pre><b>In a Jupyter environment, please rerun this cell to show the HTML representation or trust the notebook. <br />On GitHub, the HTML representation is unable to render, please try loading this page with nbviewer.org.</b></div><div class=\"sk-container\" hidden><div class=\"sk-item\"><div class=\"sk-estimator sk-toggleable\"><input class=\"sk-toggleable__control sk-hidden--visually\" id=\"sk-estimator-id-5\" type=\"checkbox\" checked><label for=\"sk-estimator-id-5\" class=\"sk-toggleable__label sk-toggleable__label-arrow\">LogisticRegression</label><div class=\"sk-toggleable__content\"><pre>LogisticRegression()</pre></div></div></div></div></div>"
      ],
      "text/plain": [
       "LogisticRegression()"
      ]
     },
     "execution_count": 72,
     "metadata": {},
     "output_type": "execute_result"
    }
   ],
   "source": [
    "logreg_model = LogisticRegression()\n",
    "logreg_model.fit(X_train_scaled, y_train)"
   ]
  },
  {
   "cell_type": "markdown",
   "id": "dc8b7d4e",
   "metadata": {},
   "source": [
    "# Decision Tree Model Training"
   ]
  },
  {
   "cell_type": "code",
   "execution_count": 73,
   "id": "813d7974",
   "metadata": {},
   "outputs": [
    {
     "data": {
      "text/html": [
       "<style>#sk-container-id-6 {color: black;background-color: white;}#sk-container-id-6 pre{padding: 0;}#sk-container-id-6 div.sk-toggleable {background-color: white;}#sk-container-id-6 label.sk-toggleable__label {cursor: pointer;display: block;width: 100%;margin-bottom: 0;padding: 0.3em;box-sizing: border-box;text-align: center;}#sk-container-id-6 label.sk-toggleable__label-arrow:before {content: \"▸\";float: left;margin-right: 0.25em;color: #696969;}#sk-container-id-6 label.sk-toggleable__label-arrow:hover:before {color: black;}#sk-container-id-6 div.sk-estimator:hover label.sk-toggleable__label-arrow:before {color: black;}#sk-container-id-6 div.sk-toggleable__content {max-height: 0;max-width: 0;overflow: hidden;text-align: left;background-color: #f0f8ff;}#sk-container-id-6 div.sk-toggleable__content pre {margin: 0.2em;color: black;border-radius: 0.25em;background-color: #f0f8ff;}#sk-container-id-6 input.sk-toggleable__control:checked~div.sk-toggleable__content {max-height: 200px;max-width: 100%;overflow: auto;}#sk-container-id-6 input.sk-toggleable__control:checked~label.sk-toggleable__label-arrow:before {content: \"▾\";}#sk-container-id-6 div.sk-estimator input.sk-toggleable__control:checked~label.sk-toggleable__label {background-color: #d4ebff;}#sk-container-id-6 div.sk-label input.sk-toggleable__control:checked~label.sk-toggleable__label {background-color: #d4ebff;}#sk-container-id-6 input.sk-hidden--visually {border: 0;clip: rect(1px 1px 1px 1px);clip: rect(1px, 1px, 1px, 1px);height: 1px;margin: -1px;overflow: hidden;padding: 0;position: absolute;width: 1px;}#sk-container-id-6 div.sk-estimator {font-family: monospace;background-color: #f0f8ff;border: 1px dotted black;border-radius: 0.25em;box-sizing: border-box;margin-bottom: 0.5em;}#sk-container-id-6 div.sk-estimator:hover {background-color: #d4ebff;}#sk-container-id-6 div.sk-parallel-item::after {content: \"\";width: 100%;border-bottom: 1px solid gray;flex-grow: 1;}#sk-container-id-6 div.sk-label:hover label.sk-toggleable__label {background-color: #d4ebff;}#sk-container-id-6 div.sk-serial::before {content: \"\";position: absolute;border-left: 1px solid gray;box-sizing: border-box;top: 0;bottom: 0;left: 50%;z-index: 0;}#sk-container-id-6 div.sk-serial {display: flex;flex-direction: column;align-items: center;background-color: white;padding-right: 0.2em;padding-left: 0.2em;position: relative;}#sk-container-id-6 div.sk-item {position: relative;z-index: 1;}#sk-container-id-6 div.sk-parallel {display: flex;align-items: stretch;justify-content: center;background-color: white;position: relative;}#sk-container-id-6 div.sk-item::before, #sk-container-id-6 div.sk-parallel-item::before {content: \"\";position: absolute;border-left: 1px solid gray;box-sizing: border-box;top: 0;bottom: 0;left: 50%;z-index: -1;}#sk-container-id-6 div.sk-parallel-item {display: flex;flex-direction: column;z-index: 1;position: relative;background-color: white;}#sk-container-id-6 div.sk-parallel-item:first-child::after {align-self: flex-end;width: 50%;}#sk-container-id-6 div.sk-parallel-item:last-child::after {align-self: flex-start;width: 50%;}#sk-container-id-6 div.sk-parallel-item:only-child::after {width: 0;}#sk-container-id-6 div.sk-dashed-wrapped {border: 1px dashed gray;margin: 0 0.4em 0.5em 0.4em;box-sizing: border-box;padding-bottom: 0.4em;background-color: white;}#sk-container-id-6 div.sk-label label {font-family: monospace;font-weight: bold;display: inline-block;line-height: 1.2em;}#sk-container-id-6 div.sk-label-container {text-align: center;}#sk-container-id-6 div.sk-container {/* jupyter's `normalize.less` sets `[hidden] { display: none; }` but bootstrap.min.css set `[hidden] { display: none !important; }` so we also need the `!important` here to be able to override the default hidden behavior on the sphinx rendered scikit-learn.org. See: https://github.com/scikit-learn/scikit-learn/issues/21755 */display: inline-block !important;position: relative;}#sk-container-id-6 div.sk-text-repr-fallback {display: none;}</style><div id=\"sk-container-id-6\" class=\"sk-top-container\"><div class=\"sk-text-repr-fallback\"><pre>DecisionTreeClassifier()</pre><b>In a Jupyter environment, please rerun this cell to show the HTML representation or trust the notebook. <br />On GitHub, the HTML representation is unable to render, please try loading this page with nbviewer.org.</b></div><div class=\"sk-container\" hidden><div class=\"sk-item\"><div class=\"sk-estimator sk-toggleable\"><input class=\"sk-toggleable__control sk-hidden--visually\" id=\"sk-estimator-id-6\" type=\"checkbox\" checked><label for=\"sk-estimator-id-6\" class=\"sk-toggleable__label sk-toggleable__label-arrow\">DecisionTreeClassifier</label><div class=\"sk-toggleable__content\"><pre>DecisionTreeClassifier()</pre></div></div></div></div></div>"
      ],
      "text/plain": [
       "DecisionTreeClassifier()"
      ]
     },
     "execution_count": 73,
     "metadata": {},
     "output_type": "execute_result"
    }
   ],
   "source": [
    "dt_model = DecisionTreeClassifier()\n",
    "dt_model.fit(X_train_scaled, y_train)"
   ]
  },
  {
   "cell_type": "markdown",
   "id": "f43afa92",
   "metadata": {},
   "source": [
    "# Random Forest Model Training"
   ]
  },
  {
   "cell_type": "code",
   "execution_count": 74,
   "id": "e4bbde50",
   "metadata": {},
   "outputs": [
    {
     "data": {
      "text/html": [
       "<style>#sk-container-id-7 {color: black;background-color: white;}#sk-container-id-7 pre{padding: 0;}#sk-container-id-7 div.sk-toggleable {background-color: white;}#sk-container-id-7 label.sk-toggleable__label {cursor: pointer;display: block;width: 100%;margin-bottom: 0;padding: 0.3em;box-sizing: border-box;text-align: center;}#sk-container-id-7 label.sk-toggleable__label-arrow:before {content: \"▸\";float: left;margin-right: 0.25em;color: #696969;}#sk-container-id-7 label.sk-toggleable__label-arrow:hover:before {color: black;}#sk-container-id-7 div.sk-estimator:hover label.sk-toggleable__label-arrow:before {color: black;}#sk-container-id-7 div.sk-toggleable__content {max-height: 0;max-width: 0;overflow: hidden;text-align: left;background-color: #f0f8ff;}#sk-container-id-7 div.sk-toggleable__content pre {margin: 0.2em;color: black;border-radius: 0.25em;background-color: #f0f8ff;}#sk-container-id-7 input.sk-toggleable__control:checked~div.sk-toggleable__content {max-height: 200px;max-width: 100%;overflow: auto;}#sk-container-id-7 input.sk-toggleable__control:checked~label.sk-toggleable__label-arrow:before {content: \"▾\";}#sk-container-id-7 div.sk-estimator input.sk-toggleable__control:checked~label.sk-toggleable__label {background-color: #d4ebff;}#sk-container-id-7 div.sk-label input.sk-toggleable__control:checked~label.sk-toggleable__label {background-color: #d4ebff;}#sk-container-id-7 input.sk-hidden--visually {border: 0;clip: rect(1px 1px 1px 1px);clip: rect(1px, 1px, 1px, 1px);height: 1px;margin: -1px;overflow: hidden;padding: 0;position: absolute;width: 1px;}#sk-container-id-7 div.sk-estimator {font-family: monospace;background-color: #f0f8ff;border: 1px dotted black;border-radius: 0.25em;box-sizing: border-box;margin-bottom: 0.5em;}#sk-container-id-7 div.sk-estimator:hover {background-color: #d4ebff;}#sk-container-id-7 div.sk-parallel-item::after {content: \"\";width: 100%;border-bottom: 1px solid gray;flex-grow: 1;}#sk-container-id-7 div.sk-label:hover label.sk-toggleable__label {background-color: #d4ebff;}#sk-container-id-7 div.sk-serial::before {content: \"\";position: absolute;border-left: 1px solid gray;box-sizing: border-box;top: 0;bottom: 0;left: 50%;z-index: 0;}#sk-container-id-7 div.sk-serial {display: flex;flex-direction: column;align-items: center;background-color: white;padding-right: 0.2em;padding-left: 0.2em;position: relative;}#sk-container-id-7 div.sk-item {position: relative;z-index: 1;}#sk-container-id-7 div.sk-parallel {display: flex;align-items: stretch;justify-content: center;background-color: white;position: relative;}#sk-container-id-7 div.sk-item::before, #sk-container-id-7 div.sk-parallel-item::before {content: \"\";position: absolute;border-left: 1px solid gray;box-sizing: border-box;top: 0;bottom: 0;left: 50%;z-index: -1;}#sk-container-id-7 div.sk-parallel-item {display: flex;flex-direction: column;z-index: 1;position: relative;background-color: white;}#sk-container-id-7 div.sk-parallel-item:first-child::after {align-self: flex-end;width: 50%;}#sk-container-id-7 div.sk-parallel-item:last-child::after {align-self: flex-start;width: 50%;}#sk-container-id-7 div.sk-parallel-item:only-child::after {width: 0;}#sk-container-id-7 div.sk-dashed-wrapped {border: 1px dashed gray;margin: 0 0.4em 0.5em 0.4em;box-sizing: border-box;padding-bottom: 0.4em;background-color: white;}#sk-container-id-7 div.sk-label label {font-family: monospace;font-weight: bold;display: inline-block;line-height: 1.2em;}#sk-container-id-7 div.sk-label-container {text-align: center;}#sk-container-id-7 div.sk-container {/* jupyter's `normalize.less` sets `[hidden] { display: none; }` but bootstrap.min.css set `[hidden] { display: none !important; }` so we also need the `!important` here to be able to override the default hidden behavior on the sphinx rendered scikit-learn.org. See: https://github.com/scikit-learn/scikit-learn/issues/21755 */display: inline-block !important;position: relative;}#sk-container-id-7 div.sk-text-repr-fallback {display: none;}</style><div id=\"sk-container-id-7\" class=\"sk-top-container\"><div class=\"sk-text-repr-fallback\"><pre>RandomForestClassifier()</pre><b>In a Jupyter environment, please rerun this cell to show the HTML representation or trust the notebook. <br />On GitHub, the HTML representation is unable to render, please try loading this page with nbviewer.org.</b></div><div class=\"sk-container\" hidden><div class=\"sk-item\"><div class=\"sk-estimator sk-toggleable\"><input class=\"sk-toggleable__control sk-hidden--visually\" id=\"sk-estimator-id-7\" type=\"checkbox\" checked><label for=\"sk-estimator-id-7\" class=\"sk-toggleable__label sk-toggleable__label-arrow\">RandomForestClassifier</label><div class=\"sk-toggleable__content\"><pre>RandomForestClassifier()</pre></div></div></div></div></div>"
      ],
      "text/plain": [
       "RandomForestClassifier()"
      ]
     },
     "execution_count": 74,
     "metadata": {},
     "output_type": "execute_result"
    }
   ],
   "source": [
    "rf_model = RandomForestClassifier()\n",
    "rf_model.fit(X_train_scaled, y_train)"
   ]
  },
  {
   "cell_type": "markdown",
   "id": "d9e71ae9",
   "metadata": {},
   "source": [
    "# XG Boost Model Training"
   ]
  },
  {
   "cell_type": "code",
   "execution_count": 75,
   "id": "cb09f52d",
   "metadata": {},
   "outputs": [
    {
     "data": {
      "text/html": [
       "<style>#sk-container-id-8 {color: black;background-color: white;}#sk-container-id-8 pre{padding: 0;}#sk-container-id-8 div.sk-toggleable {background-color: white;}#sk-container-id-8 label.sk-toggleable__label {cursor: pointer;display: block;width: 100%;margin-bottom: 0;padding: 0.3em;box-sizing: border-box;text-align: center;}#sk-container-id-8 label.sk-toggleable__label-arrow:before {content: \"▸\";float: left;margin-right: 0.25em;color: #696969;}#sk-container-id-8 label.sk-toggleable__label-arrow:hover:before {color: black;}#sk-container-id-8 div.sk-estimator:hover label.sk-toggleable__label-arrow:before {color: black;}#sk-container-id-8 div.sk-toggleable__content {max-height: 0;max-width: 0;overflow: hidden;text-align: left;background-color: #f0f8ff;}#sk-container-id-8 div.sk-toggleable__content pre {margin: 0.2em;color: black;border-radius: 0.25em;background-color: #f0f8ff;}#sk-container-id-8 input.sk-toggleable__control:checked~div.sk-toggleable__content {max-height: 200px;max-width: 100%;overflow: auto;}#sk-container-id-8 input.sk-toggleable__control:checked~label.sk-toggleable__label-arrow:before {content: \"▾\";}#sk-container-id-8 div.sk-estimator input.sk-toggleable__control:checked~label.sk-toggleable__label {background-color: #d4ebff;}#sk-container-id-8 div.sk-label input.sk-toggleable__control:checked~label.sk-toggleable__label {background-color: #d4ebff;}#sk-container-id-8 input.sk-hidden--visually {border: 0;clip: rect(1px 1px 1px 1px);clip: rect(1px, 1px, 1px, 1px);height: 1px;margin: -1px;overflow: hidden;padding: 0;position: absolute;width: 1px;}#sk-container-id-8 div.sk-estimator {font-family: monospace;background-color: #f0f8ff;border: 1px dotted black;border-radius: 0.25em;box-sizing: border-box;margin-bottom: 0.5em;}#sk-container-id-8 div.sk-estimator:hover {background-color: #d4ebff;}#sk-container-id-8 div.sk-parallel-item::after {content: \"\";width: 100%;border-bottom: 1px solid gray;flex-grow: 1;}#sk-container-id-8 div.sk-label:hover label.sk-toggleable__label {background-color: #d4ebff;}#sk-container-id-8 div.sk-serial::before {content: \"\";position: absolute;border-left: 1px solid gray;box-sizing: border-box;top: 0;bottom: 0;left: 50%;z-index: 0;}#sk-container-id-8 div.sk-serial {display: flex;flex-direction: column;align-items: center;background-color: white;padding-right: 0.2em;padding-left: 0.2em;position: relative;}#sk-container-id-8 div.sk-item {position: relative;z-index: 1;}#sk-container-id-8 div.sk-parallel {display: flex;align-items: stretch;justify-content: center;background-color: white;position: relative;}#sk-container-id-8 div.sk-item::before, #sk-container-id-8 div.sk-parallel-item::before {content: \"\";position: absolute;border-left: 1px solid gray;box-sizing: border-box;top: 0;bottom: 0;left: 50%;z-index: -1;}#sk-container-id-8 div.sk-parallel-item {display: flex;flex-direction: column;z-index: 1;position: relative;background-color: white;}#sk-container-id-8 div.sk-parallel-item:first-child::after {align-self: flex-end;width: 50%;}#sk-container-id-8 div.sk-parallel-item:last-child::after {align-self: flex-start;width: 50%;}#sk-container-id-8 div.sk-parallel-item:only-child::after {width: 0;}#sk-container-id-8 div.sk-dashed-wrapped {border: 1px dashed gray;margin: 0 0.4em 0.5em 0.4em;box-sizing: border-box;padding-bottom: 0.4em;background-color: white;}#sk-container-id-8 div.sk-label label {font-family: monospace;font-weight: bold;display: inline-block;line-height: 1.2em;}#sk-container-id-8 div.sk-label-container {text-align: center;}#sk-container-id-8 div.sk-container {/* jupyter's `normalize.less` sets `[hidden] { display: none; }` but bootstrap.min.css set `[hidden] { display: none !important; }` so we also need the `!important` here to be able to override the default hidden behavior on the sphinx rendered scikit-learn.org. See: https://github.com/scikit-learn/scikit-learn/issues/21755 */display: inline-block !important;position: relative;}#sk-container-id-8 div.sk-text-repr-fallback {display: none;}</style><div id=\"sk-container-id-8\" class=\"sk-top-container\"><div class=\"sk-text-repr-fallback\"><pre>XGBClassifier(base_score=None, booster=None, callbacks=None,\n",
       "              colsample_bylevel=None, colsample_bynode=None,\n",
       "              colsample_bytree=None, device=None, early_stopping_rounds=None,\n",
       "              enable_categorical=False, eval_metric=None, feature_types=None,\n",
       "              gamma=None, grow_policy=None, importance_type=None,\n",
       "              interaction_constraints=None, learning_rate=None, max_bin=None,\n",
       "              max_cat_threshold=None, max_cat_to_onehot=None,\n",
       "              max_delta_step=None, max_depth=None, max_leaves=None,\n",
       "              min_child_weight=None, missing=nan, monotone_constraints=None,\n",
       "              multi_strategy=None, n_estimators=None, n_jobs=None,\n",
       "              num_parallel_tree=None, random_state=None, ...)</pre><b>In a Jupyter environment, please rerun this cell to show the HTML representation or trust the notebook. <br />On GitHub, the HTML representation is unable to render, please try loading this page with nbviewer.org.</b></div><div class=\"sk-container\" hidden><div class=\"sk-item\"><div class=\"sk-estimator sk-toggleable\"><input class=\"sk-toggleable__control sk-hidden--visually\" id=\"sk-estimator-id-8\" type=\"checkbox\" checked><label for=\"sk-estimator-id-8\" class=\"sk-toggleable__label sk-toggleable__label-arrow\">XGBClassifier</label><div class=\"sk-toggleable__content\"><pre>XGBClassifier(base_score=None, booster=None, callbacks=None,\n",
       "              colsample_bylevel=None, colsample_bynode=None,\n",
       "              colsample_bytree=None, device=None, early_stopping_rounds=None,\n",
       "              enable_categorical=False, eval_metric=None, feature_types=None,\n",
       "              gamma=None, grow_policy=None, importance_type=None,\n",
       "              interaction_constraints=None, learning_rate=None, max_bin=None,\n",
       "              max_cat_threshold=None, max_cat_to_onehot=None,\n",
       "              max_delta_step=None, max_depth=None, max_leaves=None,\n",
       "              min_child_weight=None, missing=nan, monotone_constraints=None,\n",
       "              multi_strategy=None, n_estimators=None, n_jobs=None,\n",
       "              num_parallel_tree=None, random_state=None, ...)</pre></div></div></div></div></div>"
      ],
      "text/plain": [
       "XGBClassifier(base_score=None, booster=None, callbacks=None,\n",
       "              colsample_bylevel=None, colsample_bynode=None,\n",
       "              colsample_bytree=None, device=None, early_stopping_rounds=None,\n",
       "              enable_categorical=False, eval_metric=None, feature_types=None,\n",
       "              gamma=None, grow_policy=None, importance_type=None,\n",
       "              interaction_constraints=None, learning_rate=None, max_bin=None,\n",
       "              max_cat_threshold=None, max_cat_to_onehot=None,\n",
       "              max_delta_step=None, max_depth=None, max_leaves=None,\n",
       "              min_child_weight=None, missing=nan, monotone_constraints=None,\n",
       "              multi_strategy=None, n_estimators=None, n_jobs=None,\n",
       "              num_parallel_tree=None, random_state=None, ...)"
      ]
     },
     "execution_count": 75,
     "metadata": {},
     "output_type": "execute_result"
    }
   ],
   "source": [
    "xgb_model = xgb.XGBClassifier()\n",
    "xgb_model.fit(X_train_scaled, y_train)"
   ]
  },
  {
   "cell_type": "markdown",
   "id": "03dbc278",
   "metadata": {},
   "source": [
    "# Model Evaluation"
   ]
  },
  {
   "cell_type": "markdown",
   "id": "878080b6",
   "metadata": {},
   "source": [
    "## Logistic Regression"
   ]
  },
  {
   "cell_type": "code",
   "execution_count": 76,
   "id": "63ed93ab",
   "metadata": {},
   "outputs": [
    {
     "name": "stdout",
     "output_type": "stream",
     "text": [
      "Logistic Regression Accuracy: 86.3323124042879\n",
      "Confusion Matrix:\n",
      "[[2093   63]\n",
      " [ 294  162]]\n",
      "Classification Report:\n",
      "              precision    recall  f1-score   support\n",
      "\n",
      "           0       0.88      0.97      0.92      2156\n",
      "           1       0.72      0.36      0.48       456\n",
      "\n",
      "    accuracy                           0.86      2612\n",
      "   macro avg       0.80      0.66      0.70      2612\n",
      "weighted avg       0.85      0.86      0.84      2612\n",
      "\n"
     ]
    }
   ],
   "source": [
    "y_pred_logreg = logreg_model.predict(X_test_scaled)\n",
    "accuracy_logreg = accuracy_score(y_test, y_pred_logreg)\n",
    "print(\"Logistic Regression Accuracy:\", accuracy_logreg*100)\n",
    "print(\"Confusion Matrix:\")\n",
    "print(confusion_matrix(y_test, y_pred_logreg))\n",
    "print(\"Classification Report:\")\n",
    "print(classification_report(y_test, y_pred_logreg))"
   ]
  },
  {
   "cell_type": "code",
   "execution_count": 77,
   "id": "4924b499",
   "metadata": {},
   "outputs": [
    {
     "data": {
      "image/png": "[encoded data removed]",
      "text/plain": [
       "<Figure size 800x600 with 1 Axes>"
      ]
     },
     "metadata": {},
     "output_type": "display_data"
    },
    {
     "name": "stdout",
     "output_type": "stream",
     "text": [
      "Classification Report:\n",
      "              precision    recall  f1-score   support\n",
      "\n",
      "           0       0.88      0.97      0.92      2156\n",
      "           1       0.72      0.36      0.48       456\n",
      "\n",
      "    accuracy                           0.86      2612\n",
      "   macro avg       0.80      0.66      0.70      2612\n",
      "weighted avg       0.85      0.86      0.84      2612\n",
      "\n"
     ]
    }
   ],
   "source": [
    "from sklearn.metrics import confusion_matrix, classification_report\n",
    "conf_matrix = confusion_matrix(y_test, y_pred_logreg)\n",
    "plt.figure(figsize=(8, 6))\n",
    "sns.heatmap(conf_matrix, annot=True, fmt=\"d\", cmap=\"Blues\", cbar=False)\n",
    "plt.title(\"Confusion Matrix - Logistic Regression\")\n",
    "plt.xlabel(\"Predicted\")\n",
    "plt.ylabel(\"Actual\")\n",
    "plt.show()\n",
    "print(\"Classification Report:\")\n",
    "print(classification_report(y_test, y_pred_logreg))"
   ]
  },
  {
   "cell_type": "markdown",
   "id": "23811880",
   "metadata": {},
   "source": [
    "# Decision Tree"
   ]
  },
  {
   "cell_type": "code",
   "execution_count": 78,
   "id": "7108b996",
   "metadata": {},
   "outputs": [
    {
     "name": "stdout",
     "output_type": "stream",
     "text": [
      "Decision Tree Accuracy: 94.02756508422665\n",
      "Confusion Matrix:\n",
      "[[2077   79]\n",
      " [  77  379]]\n",
      "Classification Report:\n",
      "              precision    recall  f1-score   support\n",
      "\n",
      "           0       0.96      0.96      0.96      2156\n",
      "           1       0.83      0.83      0.83       456\n",
      "\n",
      "    accuracy                           0.94      2612\n",
      "   macro avg       0.90      0.90      0.90      2612\n",
      "weighted avg       0.94      0.94      0.94      2612\n",
      "\n"
     ]
    }
   ],
   "source": [
    "y_pred_dt = dt_model.predict(X_test_scaled)\n",
    "accuracy_dt = accuracy_score(y_test, y_pred_dt)\n",
    "print(\"Decision Tree Accuracy:\", accuracy_dt*100)\n",
    "print(\"Confusion Matrix:\")\n",
    "print(confusion_matrix(y_test, y_pred_dt))\n",
    "print(\"Classification Report:\")\n",
    "print(classification_report(y_test, y_pred_dt))"
   ]
  },
  {
   "cell_type": "code",
   "execution_count": 79,
   "id": "49326fe8",
   "metadata": {},
   "outputs": [
    {
     "data": {
      "image/png": "[encoded data removed]",
      "text/plain": [
       "<Figure size 800x600 with 1 Axes>"
      ]
     },
     "metadata": {},
     "output_type": "display_data"
    },
    {
     "name": "stdout",
     "output_type": "stream",
     "text": [
      "Classification Report:\n",
      "              precision    recall  f1-score   support\n",
      "\n",
      "           0       0.96      0.96      0.96      2156\n",
      "           1       0.83      0.83      0.83       456\n",
      "\n",
      "    accuracy                           0.94      2612\n",
      "   macro avg       0.90      0.90      0.90      2612\n",
      "weighted avg       0.94      0.94      0.94      2612\n",
      "\n"
     ]
    }
   ],
   "source": [
    "conf_matrix_dt = confusion_matrix(y_test, y_pred_dt)\n",
    "plt.figure(figsize=(8, 6))\n",
    "sns.heatmap(conf_matrix_dt, annot=True, fmt=\"d\", cmap=\"Blues\", cbar=False)\n",
    "plt.title(\"Confusion Matrix - Decision Tree\")\n",
    "plt.xlabel(\"Predicted\")\n",
    "plt.ylabel(\"Actual\")\n",
    "plt.show()\n",
    "print(\"Classification Report:\")\n",
    "print(classification_report(y_test, y_pred_dt))"
   ]
  },
  {
   "cell_type": "markdown",
   "id": "a35d0e0a",
   "metadata": {},
   "source": [
    "# Random Forest"
   ]
  },
  {
   "cell_type": "code",
   "execution_count": 80,
   "id": "df07425a",
   "metadata": {},
   "outputs": [
    {
     "name": "stdout",
     "output_type": "stream",
     "text": [
      "Random Forest Accuracy: 96.09494640122512 %\n",
      "Confusion Matrix:\n",
      "[[2122   34]\n",
      " [  68  388]]\n",
      "Classification Report:\n",
      "              precision    recall  f1-score   support\n",
      "\n",
      "           0       0.97      0.98      0.98      2156\n",
      "           1       0.92      0.85      0.88       456\n",
      "\n",
      "    accuracy                           0.96      2612\n",
      "   macro avg       0.94      0.92      0.93      2612\n",
      "weighted avg       0.96      0.96      0.96      2612\n",
      "\n"
     ]
    }
   ],
   "source": [
    "y_pred_rf = rf_model.predict(X_test_scaled)\n",
    "accuracy_rf = accuracy_score(y_test, y_pred_rf)\n",
    "print(\"Random Forest Accuracy:\", accuracy_rf*100,'%')\n",
    "print(\"Confusion Matrix:\")\n",
    "print(confusion_matrix(y_test, y_pred_rf))\n",
    "print(\"Classification Report:\")\n",
    "print(classification_report(y_test, y_pred_rf))"
   ]
  },
  {
   "cell_type": "code",
   "execution_count": 81,
   "id": "c8333269",
   "metadata": {},
   "outputs": [
    {
     "data": {
      "image/png": "[encoded data removed]",
      "text/plain": [
       "<Figure size 800x600 with 1 Axes>"
      ]
     },
     "metadata": {},
     "output_type": "display_data"
    },
    {
     "name": "stdout",
     "output_type": "stream",
     "text": [
      "Classification Report:\n",
      "              precision    recall  f1-score   support\n",
      "\n",
      "           0       0.97      0.98      0.98      2156\n",
      "           1       0.92      0.85      0.88       456\n",
      "\n",
      "    accuracy                           0.96      2612\n",
      "   macro avg       0.94      0.92      0.93      2612\n",
      "weighted avg       0.96      0.96      0.96      2612\n",
      "\n"
     ]
    }
   ],
   "source": [
    "conf_matrix_rf = confusion_matrix(y_test, y_pred_rf)\n",
    "plt.figure(figsize=(8, 6))\n",
    "sns.heatmap(conf_matrix_rf, annot=True, fmt=\"d\", cmap=\"Blues\", cbar=False)\n",
    "plt.title(\"Confusion Matrix - Random Forest\")\n",
    "plt.xlabel(\"Predicted\")\n",
    "plt.ylabel(\"Actual\")\n",
    "plt.show()\n",
    "print(\"Classification Report:\")\n",
    "print(classification_report(y_test, y_pred_rf))"
   ]
  },
  {
   "cell_type": "markdown",
   "id": "3421de22",
   "metadata": {},
   "source": [
    "# XG Boost "
   ]
  },
  {
   "cell_type": "code",
   "execution_count": 82,
   "id": "b5ca2903",
   "metadata": {},
   "outputs": [
    {
     "name": "stdout",
     "output_type": "stream",
     "text": [
      "XGBoost Accuracy: 96.09494640122512\n",
      "XGBoost Precision: 0.9097222222222222\n",
      "XGBoost Recall: 0.8618421052631579\n",
      "XGBoost F1-score: 0.8851351351351351\n",
      "XGBoost ROC-AUC score: 0.989766420922436\n",
      "XGBoost Confusion matrix:\n",
      "[[2117   39]\n",
      " [  63  393]]\n",
      "XGBoost Classification report:\n",
      "              precision    recall  f1-score   support\n",
      "\n",
      "           0       0.97      0.98      0.98      2156\n",
      "           1       0.91      0.86      0.89       456\n",
      "\n",
      "    accuracy                           0.96      2612\n",
      "   macro avg       0.94      0.92      0.93      2612\n",
      "weighted avg       0.96      0.96      0.96      2612\n",
      "\n"
     ]
    }
   ],
   "source": [
    "y_pred_xgb = xgb_model.predict(X_test_scaled)\n",
    "y_pred_proba_xgb = xgb_model.predict_proba(X_test_scaled)[:, 1]  # For ROC-AUC score\n",
    "accuracy_xgb = accuracy_score(y_test, y_pred_xgb)\n",
    "precision_xgb = precision_score(y_test, y_pred_xgb)\n",
    "recall_xgb = recall_score(y_test, y_pred_xgb)\n",
    "f1_xgb = f1_score(y_test, y_pred_xgb)\n",
    "roc_auc_xgb = roc_auc_score(y_test, y_pred_proba_xgb)\n",
    "conf_matrix_xgb = confusion_matrix(y_test, y_pred_xgb)\n",
    "class_report_xgb = classification_report(y_test, y_pred_xgb)\n",
    "print(\"XGBoost Accuracy:\", accuracy_xgb*100)\n",
    "print(\"XGBoost Precision:\", precision_xgb)\n",
    "print(\"XGBoost Recall:\", recall_xgb)\n",
    "print(\"XGBoost F1-score:\", f1_xgb)\n",
    "print(\"XGBoost ROC-AUC score:\", roc_auc_xgb)\n",
    "print(\"XGBoost Confusion matrix:\")\n",
    "print(conf_matrix_xgb)\n",
    "print(\"XGBoost Classification report:\")\n",
    "print(class_report_xgb)"
   ]
  },
  {
   "cell_type": "code",
   "execution_count": 83,
   "id": "11c8b662",
   "metadata": {},
   "outputs": [
    {
     "data": {
      "image/png": "[encoded data removed]",
      "text/plain": [
       "<Figure size 800x600 with 1 Axes>"
      ]
     },
     "metadata": {},
     "output_type": "display_data"
    },
    {
     "name": "stdout",
     "output_type": "stream",
     "text": [
      "Classification Report:\n",
      "              precision    recall  f1-score   support\n",
      "\n",
      "           0       0.97      0.98      0.98      2156\n",
      "           1       0.91      0.86      0.89       456\n",
      "\n",
      "    accuracy                           0.96      2612\n",
      "   macro avg       0.94      0.92      0.93      2612\n",
      "weighted avg       0.96      0.96      0.96      2612\n",
      "\n"
     ]
    }
   ],
   "source": [
    "conf_matrix_xgb = confusion_matrix(y_test, y_pred_xgb)\n",
    "plt.figure(figsize=(8, 6))\n",
    "sns.heatmap(conf_matrix_xgb, annot=True, fmt=\"d\", cmap=\"Blues\", cbar=False)\n",
    "plt.title(\"Confusion Matrix - XGBoost\")\n",
    "plt.xlabel(\"Predicted\")\n",
    "plt.ylabel(\"Actual\")\n",
    "plt.show()\n",
    "print(\"Classification Report:\")\n",
    "print(classification_report(y_test, y_pred_xgb))"
   ]
  },
  {
   "cell_type": "markdown",
   "id": "0cf142a4",
   "metadata": {},
   "source": [
    "# Neural Network Model"
   ]
  },
  {
   "cell_type": "code",
   "execution_count": 84,
   "id": "38ab0fbc",
   "metadata": {},
   "outputs": [],
   "source": [
    "model_nn = Sequential()\n",
    "model_nn.add(Dense(64, activation='relu', input_shape=(X_train_scaled.shape[1],)))\n",
    "model_nn.add(Dense(32, activation='relu'))\n",
    "model_nn.add(Dense(1, activation='sigmoid'))"
   ]
  },
  {
   "cell_type": "code",
   "execution_count": 85,
   "id": "db2a319b",
   "metadata": {},
   "outputs": [],
   "source": [
    "model_nn.compile(optimizer='adam', loss='binary_crossentropy', metrics=['accuracy'])"
   ]
  },
  {
   "cell_type": "code",
   "execution_count": 86,
   "id": "20216c46",
   "metadata": {
    "scrolled": false
   },
   "outputs": [
    {
     "name": "stdout",
     "output_type": "stream",
     "text": [
      "Epoch 1/50\n",
      "191/191 [==============================] - 1s 2ms/step - loss: 0.4370 - accuracy: 0.8139 - val_loss: 0.3786 - val_accuracy: 0.8442\n",
      "Epoch 2/50\n",
      "191/191 [==============================] - 0s 2ms/step - loss: 0.3389 - accuracy: 0.8654 - val_loss: 0.3427 - val_accuracy: 0.8572\n",
      "Epoch 3/50\n",
      "191/191 [==============================] - 0s 2ms/step - loss: 0.3024 - accuracy: 0.8826 - val_loss: 0.3145 - val_accuracy: 0.8702\n",
      "Epoch 4/50\n",
      "191/191 [==============================] - 0s 2ms/step - loss: 0.2730 - accuracy: 0.8959 - val_loss: 0.2874 - val_accuracy: 0.8855\n",
      "Epoch 5/50\n",
      "191/191 [==============================] - 0s 2ms/step - loss: 0.2490 - accuracy: 0.9087 - val_loss: 0.2738 - val_accuracy: 0.8848\n",
      "Epoch 6/50\n",
      "191/191 [==============================] - 0s 2ms/step - loss: 0.2321 - accuracy: 0.9123 - val_loss: 0.2721 - val_accuracy: 0.8851\n",
      "Epoch 7/50\n",
      "191/191 [==============================] - 0s 2ms/step - loss: 0.2199 - accuracy: 0.9176 - val_loss: 0.2638 - val_accuracy: 0.8955\n",
      "Epoch 8/50\n",
      "191/191 [==============================] - 0s 2ms/step - loss: 0.2073 - accuracy: 0.9227 - val_loss: 0.2548 - val_accuracy: 0.8985\n",
      "Epoch 9/50\n",
      "191/191 [==============================] - 0s 2ms/step - loss: 0.1964 - accuracy: 0.9258 - val_loss: 0.2488 - val_accuracy: 0.9005\n",
      "Epoch 10/50\n",
      "191/191 [==============================] - 0s 2ms/step - loss: 0.1861 - accuracy: 0.9306 - val_loss: 0.2348 - val_accuracy: 0.9043\n",
      "Epoch 11/50\n",
      "191/191 [==============================] - 0s 2ms/step - loss: 0.1762 - accuracy: 0.9358 - val_loss: 0.2326 - val_accuracy: 0.9096\n",
      "Epoch 12/50\n",
      "191/191 [==============================] - 0s 2ms/step - loss: 0.1677 - accuracy: 0.9394 - val_loss: 0.2369 - val_accuracy: 0.9051\n",
      "Epoch 13/50\n",
      "191/191 [==============================] - 0s 2ms/step - loss: 0.1588 - accuracy: 0.9406 - val_loss: 0.2174 - val_accuracy: 0.9146\n",
      "Epoch 14/50\n",
      "191/191 [==============================] - 0s 2ms/step - loss: 0.1508 - accuracy: 0.9460 - val_loss: 0.2119 - val_accuracy: 0.9223\n",
      "Epoch 15/50\n",
      "191/191 [==============================] - 0s 2ms/step - loss: 0.1412 - accuracy: 0.9478 - val_loss: 0.2054 - val_accuracy: 0.9219\n",
      "Epoch 16/50\n",
      "191/191 [==============================] - 0s 2ms/step - loss: 0.1356 - accuracy: 0.9519 - val_loss: 0.2106 - val_accuracy: 0.9230\n",
      "Epoch 17/50\n",
      "191/191 [==============================] - 0s 1ms/step - loss: 0.1293 - accuracy: 0.9542 - val_loss: 0.2008 - val_accuracy: 0.9296\n",
      "Epoch 18/50\n",
      "191/191 [==============================] - 0s 1ms/step - loss: 0.1229 - accuracy: 0.9572 - val_loss: 0.1955 - val_accuracy: 0.9257\n",
      "Epoch 19/50\n",
      "191/191 [==============================] - 0s 2ms/step - loss: 0.1168 - accuracy: 0.9578 - val_loss: 0.2129 - val_accuracy: 0.9215\n",
      "Epoch 20/50\n",
      "191/191 [==============================] - 0s 2ms/step - loss: 0.1094 - accuracy: 0.9618 - val_loss: 0.1841 - val_accuracy: 0.9353\n",
      "Epoch 21/50\n",
      "191/191 [==============================] - 0s 2ms/step - loss: 0.1046 - accuracy: 0.9627 - val_loss: 0.1860 - val_accuracy: 0.9319\n",
      "Epoch 22/50\n",
      "191/191 [==============================] - 0s 2ms/step - loss: 0.0973 - accuracy: 0.9680 - val_loss: 0.1761 - val_accuracy: 0.9418\n",
      "Epoch 23/50\n",
      "191/191 [==============================] - 0s 2ms/step - loss: 0.0928 - accuracy: 0.9695 - val_loss: 0.1831 - val_accuracy: 0.9342\n",
      "Epoch 24/50\n",
      "191/191 [==============================] - 0s 2ms/step - loss: 0.0888 - accuracy: 0.9714 - val_loss: 0.1781 - val_accuracy: 0.9357\n",
      "Epoch 25/50\n",
      "191/191 [==============================] - 0s 2ms/step - loss: 0.0835 - accuracy: 0.9739 - val_loss: 0.1680 - val_accuracy: 0.9449\n",
      "Epoch 26/50\n",
      "191/191 [==============================] - 0s 2ms/step - loss: 0.0779 - accuracy: 0.9749 - val_loss: 0.1679 - val_accuracy: 0.9418\n",
      "Epoch 27/50\n",
      "191/191 [==============================] - 0s 2ms/step - loss: 0.0750 - accuracy: 0.9765 - val_loss: 0.1647 - val_accuracy: 0.9433\n",
      "Epoch 28/50\n",
      "191/191 [==============================] - 0s 2ms/step - loss: 0.0719 - accuracy: 0.9803 - val_loss: 0.1626 - val_accuracy: 0.9472\n",
      "Epoch 29/50\n",
      "191/191 [==============================] - 0s 2ms/step - loss: 0.0686 - accuracy: 0.9798 - val_loss: 0.1579 - val_accuracy: 0.9491\n",
      "Epoch 30/50\n",
      "191/191 [==============================] - 0s 2ms/step - loss: 0.0649 - accuracy: 0.9815 - val_loss: 0.1620 - val_accuracy: 0.9479\n",
      "Epoch 31/50\n",
      "191/191 [==============================] - 0s 2ms/step - loss: 0.0592 - accuracy: 0.9852 - val_loss: 0.1508 - val_accuracy: 0.9537\n",
      "Epoch 32/50\n",
      "191/191 [==============================] - 0s 2ms/step - loss: 0.0577 - accuracy: 0.9852 - val_loss: 0.1540 - val_accuracy: 0.9521\n",
      "Epoch 33/50\n",
      "191/191 [==============================] - 0s 2ms/step - loss: 0.0541 - accuracy: 0.9849 - val_loss: 0.1472 - val_accuracy: 0.9521\n",
      "Epoch 34/50\n",
      "191/191 [==============================] - 0s 2ms/step - loss: 0.0523 - accuracy: 0.9854 - val_loss: 0.1584 - val_accuracy: 0.9498\n",
      "Epoch 35/50\n",
      "191/191 [==============================] - 0s 1ms/step - loss: 0.0500 - accuracy: 0.9870 - val_loss: 0.1490 - val_accuracy: 0.9552\n",
      "Epoch 36/50\n",
      "191/191 [==============================] - 0s 2ms/step - loss: 0.0474 - accuracy: 0.9865 - val_loss: 0.1493 - val_accuracy: 0.9544\n",
      "Epoch 37/50\n",
      "191/191 [==============================] - 0s 2ms/step - loss: 0.0466 - accuracy: 0.9870 - val_loss: 0.1477 - val_accuracy: 0.9575\n",
      "Epoch 38/50\n",
      "191/191 [==============================] - 0s 2ms/step - loss: 0.0444 - accuracy: 0.9879 - val_loss: 0.1501 - val_accuracy: 0.9560\n",
      "Epoch 39/50\n",
      "191/191 [==============================] - 0s 2ms/step - loss: 0.0395 - accuracy: 0.9906 - val_loss: 0.1389 - val_accuracy: 0.9579\n",
      "Epoch 40/50\n",
      "191/191 [==============================] - 0s 2ms/step - loss: 0.0385 - accuracy: 0.9911 - val_loss: 0.1429 - val_accuracy: 0.9556\n",
      "Epoch 41/50\n",
      "191/191 [==============================] - 0s 2ms/step - loss: 0.0370 - accuracy: 0.9916 - val_loss: 0.1567 - val_accuracy: 0.9548\n",
      "Epoch 42/50\n",
      "191/191 [==============================] - 0s 1ms/step - loss: 0.0340 - accuracy: 0.9926 - val_loss: 0.1388 - val_accuracy: 0.9609\n",
      "Epoch 43/50\n",
      "191/191 [==============================] - 0s 2ms/step - loss: 0.0326 - accuracy: 0.9921 - val_loss: 0.1401 - val_accuracy: 0.9590\n",
      "Epoch 44/50\n",
      "191/191 [==============================] - 0s 2ms/step - loss: 0.0319 - accuracy: 0.9923 - val_loss: 0.1351 - val_accuracy: 0.9606\n",
      "Epoch 45/50\n",
      "191/191 [==============================] - 0s 2ms/step - loss: 0.0287 - accuracy: 0.9944 - val_loss: 0.1364 - val_accuracy: 0.9598\n",
      "Epoch 46/50\n",
      "191/191 [==============================] - 0s 2ms/step - loss: 0.0272 - accuracy: 0.9939 - val_loss: 0.1373 - val_accuracy: 0.9598\n",
      "Epoch 47/50\n",
      "191/191 [==============================] - 0s 2ms/step - loss: 0.0297 - accuracy: 0.9936 - val_loss: 0.1495 - val_accuracy: 0.9575\n",
      "Epoch 48/50\n",
      "191/191 [==============================] - 0s 2ms/step - loss: 0.0268 - accuracy: 0.9941 - val_loss: 0.1352 - val_accuracy: 0.9606\n",
      "Epoch 49/50\n",
      "191/191 [==============================] - 0s 2ms/step - loss: 0.0259 - accuracy: 0.9951 - val_loss: 0.1351 - val_accuracy: 0.9617\n",
      "Epoch 50/50\n",
      "191/191 [==============================] - 0s 2ms/step - loss: 0.0216 - accuracy: 0.9967 - val_loss: 0.1354 - val_accuracy: 0.9632\n"
     ]
    }
   ],
   "source": [
    "epochs = 50\n",
    "history = model_nn.fit(X_train_scaled, y_train, epochs=epochs, validation_data=(X_test_scaled, y_test))"
   ]
  },
  {
   "cell_type": "code",
   "execution_count": 87,
   "id": "d1a07d36",
   "metadata": {},
   "outputs": [
    {
     "name": "stdout",
     "output_type": "stream",
     "text": [
      "82/82 [==============================] - 0s 1ms/step - loss: 0.1354 - accuracy: 0.9632\n",
      "Test Loss: 0.13540512323379517\n",
      "Test Accuracy: 0.9632465839385986\n"
     ]
    }
   ],
   "source": [
    "loss_nn, accuracy_nn = model_nn.evaluate(X_test_scaled, y_test)\n",
    "print(\"Test Loss:\", loss_nn)\n",
    "print(\"Test Accuracy:\", accuracy_nn)"
   ]
  },
  {
   "cell_type": "code",
   "execution_count": 99,
   "id": "160b0685",
   "metadata": {},
   "outputs": [
    {
     "data": {
      "image/png": "[encoded data removed]",
      "text/plain": [
       "<Figure size 800x600 with 1 Axes>"
      ]
     },
     "metadata": {},
     "output_type": "display_data"
    }
   ],
   "source": [
    "plt.figure(figsize=(8, 6))\n",
    "plt.plot(history.history['accuracy'], label='Training Accuracy')\n",
    "plt.plot(history.history['val_accuracy'], label='Validation Accuracy')\n",
    "plt.xlabel('Epoch')\n",
    "plt.ylabel('Accuracy')\n",
    "plt.title('Training and Validation Accuracy Over Epochs (Neural Network)')\n",
    "plt.legend()\n",
    "plt.grid(True)\n",
    "plt.show()"
   ]
  },
  {
   "cell_type": "markdown",
   "id": "a639287f",
   "metadata": {},
   "source": [
    "# Model Tuning"
   ]
  },
  {
   "cell_type": "markdown",
   "id": "eec6687e",
   "metadata": {},
   "source": [
    "## Random Forest"
   ]
  },
  {
   "cell_type": "code",
   "execution_count": 89,
   "id": "a3bc837f",
   "metadata": {},
   "outputs": [
    {
     "name": "stdout",
     "output_type": "stream",
     "text": [
      "Fitting 5 folds for each of 27 candidates, totalling 135 fits\n",
      "Best Parameters: {'max_depth': 20, 'min_samples_split': 2, 'n_estimators': 300}\n",
      "Best Score: 0.9535466767963727\n"
     ]
    }
   ],
   "source": [
    "from sklearn.model_selection import GridSearchCV\n",
    "from sklearn.ensemble import RandomForestClassifier\n",
    "\n",
    "# Define the parameter grid to search over\n",
    "param_grid = {\n",
    "    'n_estimators': [100, 200, 300],  \n",
    "    'max_depth': [10, 20, None],  \n",
    "    'min_samples_split': [2, 5, 10]  \n",
    "}\n",
    "\n",
    "# Initialize the classifier\n",
    "rf_classifier = RandomForestClassifier(random_state=42)\n",
    "\n",
    "# Initialize the GridSearchCV object\n",
    "grid_search_rf = GridSearchCV(estimator=rf_classifier, param_grid=param_grid, cv=5, scoring='accuracy', verbose=1)\n",
    "\n",
    "# Fit the model\n",
    "grid_search_rf.fit(X_train_scaled, y_train)\n",
    "\n",
    "# Print the best parameters and the best score\n",
    "print(\"Best Parameters:\", grid_search_rf.best_params_)\n",
    "print(\"Best Score:\", grid_search_rf.best_score_)"
   ]
  },
  {
   "cell_type": "markdown",
   "id": "39141e4b",
   "metadata": {},
   "source": [
    "## Logistic Regression"
   ]
  },
  {
   "cell_type": "code",
   "execution_count": 90,
   "id": "7f617fdd",
   "metadata": {},
   "outputs": [
    {
     "name": "stdout",
     "output_type": "stream",
     "text": [
      "Fitting 5 folds for each of 12 candidates, totalling 60 fits\n",
      "Logistic Regression - Best Parameters: {'C': 100, 'penalty': 'l2'}\n",
      "Logistic Regression - Best Score: 0.8783644565857234\n"
     ]
    },
    {
     "name": "stderr",
     "output_type": "stream",
     "text": [
      "C:\\Users\\RITU PRIYA SINGH\\AppData\\Local\\Programs\\Python\\Python311\\Lib\\site-packages\\sklearn\\model_selection\\_validation.py:378: FitFailedWarning: \n",
      "30 fits failed out of a total of 60.\n",
      "The score on these train-test partitions for these parameters will be set to nan.\n",
      "If these failures are not expected, you can try to debug them by setting error_score='raise'.\n",
      "\n",
      "Below are more details about the failures:\n",
      "--------------------------------------------------------------------------------\n",
      "30 fits failed with the following error:\n",
      "Traceback (most recent call last):\n",
      "  File \"C:\\Users\\RITU PRIYA SINGH\\AppData\\Local\\Programs\\Python\\Python311\\Lib\\site-packages\\sklearn\\model_selection\\_validation.py\", line 686, in _fit_and_score\n",
      "    estimator.fit(X_train, y_train, **fit_params)\n",
      "  File \"C:\\Users\\RITU PRIYA SINGH\\AppData\\Local\\Programs\\Python\\Python311\\Lib\\site-packages\\sklearn\\linear_model\\_logistic.py\", line 1162, in fit\n",
      "    solver = _check_solver(self.solver, self.penalty, self.dual)\n",
      "             ^^^^^^^^^^^^^^^^^^^^^^^^^^^^^^^^^^^^^^^^^^^^^^^^^^^\n",
      "  File \"C:\\Users\\RITU PRIYA SINGH\\AppData\\Local\\Programs\\Python\\Python311\\Lib\\site-packages\\sklearn\\linear_model\\_logistic.py\", line 54, in _check_solver\n",
      "    raise ValueError(\n",
      "ValueError: Solver lbfgs supports only 'l2' or 'none' penalties, got l1 penalty.\n",
      "\n",
      "  warnings.warn(some_fits_failed_message, FitFailedWarning)\n",
      "C:\\Users\\RITU PRIYA SINGH\\AppData\\Local\\Programs\\Python\\Python311\\Lib\\site-packages\\sklearn\\model_selection\\_search.py:952: UserWarning: One or more of the test scores are non-finite: [       nan 0.83716363        nan 0.86178515        nan 0.87540893\n",
      "        nan 0.87787185        nan 0.87820025        nan 0.87836446]\n",
      "  warnings.warn(\n"
     ]
    }
   ],
   "source": [
    "from sklearn.model_selection import GridSearchCV\n",
    "from sklearn.linear_model import LogisticRegression\n",
    "\n",
    "# Define the parameter grid to search over\n",
    "param_grid_logreg = {\n",
    "    'C': [0.001, 0.01, 0.1, 1, 10, 100],  \n",
    "    'penalty': ['l1', 'l2']  \n",
    "}\n",
    "\n",
    "# Initialize the classifier\n",
    "logreg_classifier = LogisticRegression(max_iter=1000, random_state=42)\n",
    "\n",
    "# Initialize the GridSearchCV object\n",
    "grid_search_logreg = GridSearchCV(estimator=logreg_classifier, param_grid=param_grid_logreg, cv=5, scoring='accuracy', verbose=1)\n",
    "\n",
    "# Fit the model\n",
    "grid_search_logreg.fit(X_train_scaled, y_train)\n",
    "\n",
    "# Print the best parameters and the best score\n",
    "print(\"Logistic Regression - Best Parameters:\", grid_search_logreg.best_params_)\n",
    "print(\"Logistic Regression - Best Score:\", grid_search_logreg.best_score_)"
   ]
  },
  {
   "cell_type": "markdown",
   "id": "694c26e5",
   "metadata": {},
   "source": [
    "## Decision Tree"
   ]
  },
  {
   "cell_type": "code",
   "execution_count": 91,
   "id": "3d962dfc",
   "metadata": {},
   "outputs": [
    {
     "name": "stdout",
     "output_type": "stream",
     "text": [
      "Fitting 5 folds for each of 36 candidates, totalling 180 fits\n",
      "Decision Tree - Best Parameters: {'max_depth': None, 'min_samples_leaf': 1, 'min_samples_split': 2}\n",
      "Decision Tree - Best Score: 0.9295807621795571\n"
     ]
    }
   ],
   "source": [
    "from sklearn.model_selection import GridSearchCV\n",
    "from sklearn.tree import DecisionTreeClassifier\n",
    "\n",
    "# Define the parameter grid to search over\n",
    "param_grid_dt = {\n",
    "    'max_depth': [None, 5, 10, 15],  \n",
    "    'min_samples_split': [2, 5, 10],  \n",
    "    'min_samples_leaf': [1, 2, 4]  \n",
    "}\n",
    "\n",
    "# Initialize the classifier\n",
    "dt_classifier = DecisionTreeClassifier(random_state=42)\n",
    "\n",
    "# Initialize the GridSearchCV object\n",
    "grid_search_dt = GridSearchCV(estimator=dt_classifier, param_grid=param_grid_dt, cv=5, scoring='accuracy', verbose=1)\n",
    "\n",
    "# Fit the model\n",
    "grid_search_dt.fit(X_train_scaled, y_train)\n",
    "\n",
    "# Print the best parameters and the best score\n",
    "print(\"Decision Tree - Best Parameters:\", grid_search_dt.best_params_)\n",
    "print(\"Decision Tree - Best Score:\", grid_search_dt.best_score_)"
   ]
  },
  {
   "cell_type": "markdown",
   "id": "68023cd6",
   "metadata": {},
   "source": [
    "## XGBoost"
   ]
  },
  {
   "cell_type": "code",
   "execution_count": 92,
   "id": "4c976a4c",
   "metadata": {},
   "outputs": [
    {
     "name": "stdout",
     "output_type": "stream",
     "text": [
      "Fitting 5 folds for each of 27 candidates, totalling 135 fits\n",
      "XGBoost - Best Parameters: {'learning_rate': 0.2, 'max_depth': 7, 'min_child_weight': 1}\n",
      "XGBoost - Best Score: 0.955844719149859\n"
     ]
    }
   ],
   "source": [
    "import xgboost as xgb\n",
    "from sklearn.model_selection import GridSearchCV\n",
    "\n",
    "# Define the parameter grid to search over\n",
    "param_grid_xgb = {\n",
    "    'learning_rate': [0.01, 0.1, 0.2],  \n",
    "    'max_depth': [3, 5, 7],  \n",
    "    'min_child_weight': [1, 3, 5],  \n",
    "}\n",
    "\n",
    "# Initialize the classifier\n",
    "xgb_classifier = xgb.XGBClassifier(objective='binary:logistic', random_state=42)\n",
    "\n",
    "# Initialize the GridSearchCV object\n",
    "grid_search_xgb = GridSearchCV(estimator=xgb_classifier, param_grid=param_grid_xgb, cv=5, scoring='accuracy', verbose=1)\n",
    "\n",
    "# Fit the model\n",
    "grid_search_xgb.fit(X_train_scaled, y_train)\n",
    "\n",
    "# Print the best parameters and the best score\n",
    "print(\"XGBoost - Best Parameters:\", grid_search_xgb.best_params_)\n",
    "print(\"XGBoost - Best Score:\", grid_search_xgb.best_score_)"
   ]
  },
  {
   "cell_type": "code",
   "execution_count": 93,
   "id": "81145910",
   "metadata": {},
   "outputs": [],
   "source": [
    "import tensorflow as tf\n",
    "import keras_tuner as kt\n",
    "from tensorflow.keras.models import Sequential\n",
    "from tensorflow.keras.layers import Dense"
   ]
  },
  {
   "cell_type": "code",
   "execution_count": 94,
   "id": "3189b4ed",
   "metadata": {},
   "outputs": [
    {
     "name": "stdout",
     "output_type": "stream",
     "text": [
      "Reloading Tuner from kt_dir\\kt_hyperband\\tuner0.json\n",
      "\n",
      "The hyperparameter search is complete. The optimal number of units in the first densely-connected\n",
      "layer is 384 and the optimal learning rate for the optimizer\n",
      "is 0.01.\n",
      "\n",
      "82/82 [==============================] - 0s 1ms/step - loss: 0.2407 - accuracy: 0.9123\n",
      "Test Loss: 0.24068531394004822\n",
      "Test Accuracy: 0.9123277068138123\n",
      "82/82 [==============================] - 0s 756us/step\n",
      "Best Model Accuracy: 0.9123277182235835\n"
     ]
    }
   ],
   "source": [
    "def model_builder(hp):\n",
    "    model = Sequential()\n",
    "    model.add(Dense(units=hp.Int('units', min_value=32, max_value=512, step=32),\n",
    "                    activation='relu',\n",
    "                    input_shape=(X_train_scaled.shape[1],)))\n",
    "    model.add(Dense(1, activation='sigmoid'))\n",
    "    \n",
    "    hp_learning_rate = hp.Choice('learning_rate', values=[1e-2, 1e-3, 1e-4])\n",
    "    \n",
    "    model.compile(optimizer=tf.keras.optimizers.Adam(learning_rate=hp_learning_rate),\n",
    "                  loss='binary_crossentropy',\n",
    "                  metrics=['accuracy'])\n",
    "    return model\n",
    "\n",
    "# Create a tuner\n",
    "tuner = kt.Hyperband(model_builder,\n",
    "                     objective='val_accuracy',\n",
    "                     max_epochs=10,\n",
    "                     factor=3,\n",
    "                     directory='kt_dir',\n",
    "                     project_name='kt_hyperband')\n",
    "\n",
    "# Early stopping callback\n",
    "stop_early = tf.keras.callbacks.EarlyStopping(monitor='val_loss', patience=5)\n",
    "\n",
    "# Execute the search\n",
    "tuner.search(X_train_scaled, y_train, epochs=50, validation_split=0.2, callbacks=[stop_early])\n",
    "\n",
    "# Get the optimal hyperparameters\n",
    "best_hps = tuner.get_best_hyperparameters(num_trials=1)[0]\n",
    "\n",
    "print(f\"\"\"\n",
    "The hyperparameter search is complete. The optimal number of units in the first densely-connected\n",
    "layer is {best_hps.get('units')} and the optimal learning rate for the optimizer\n",
    "is {best_hps.get('learning_rate')}.\n",
    "\"\"\")\n",
    "\n",
    "# Retrieve the best model.\n",
    "best_model = tuner.get_best_models(num_models=1)[0]\n",
    "\n",
    "# Evaluate the model.\n",
    "loss, accuracy = best_model.evaluate(X_test_scaled, y_test)\n",
    "print(f\"Test Loss: {loss}\")\n",
    "print(f\"Test Accuracy: {accuracy}\")\n",
    "\n",
    "\n",
    "# Evaluate the best model.\n",
    "y_pred_best_model = best_model.predict(X_test_scaled)\n",
    "accuracy_best_model = accuracy_score(y_test, (y_pred_best_model > 0.5).astype(int))\n",
    "print(f\"Best Model Accuracy: {accuracy_best_model}\")"
   ]
  },
  {
   "cell_type": "markdown",
   "id": "8d3f16fd",
   "metadata": {},
   "source": [
    "# Accuracies"
   ]
  },
  {
   "cell_type": "code",
   "execution_count": 95,
   "id": "8d6d0e06",
   "metadata": {},
   "outputs": [
    {
     "name": "stdout",
     "output_type": "stream",
     "text": [
      "                 Model Accuracy\n",
      "0  Logistic Regression   86.33%\n",
      "1        Decision Tree   94.03%\n",
      "2        Random Forest   96.09%\n",
      "3              XGBoost   96.09%\n",
      "4       Neural Network   96.32%\n"
     ]
    }
   ],
   "source": [
    "accuracies = {\n",
    "    'Model': ['Logistic Regression', 'Decision Tree', 'Random Forest', 'XGBoost', 'Neural Network'],\n",
    "    'Accuracy': [\n",
    "        f\"{accuracy_logreg * 100:.2f}%\",\n",
    "        f\"{accuracy_dt * 100:.2f}%\",\n",
    "        f\"{accuracy_rf * 100:.2f}%\",\n",
    "        f\"{accuracy_xgb * 100:.2f}%\",\n",
    "        f\"{accuracy_nn * 100:.2f}%\"\n",
    "    ]\n",
    "}\n",
    "\n",
    "accuracy_df = pd.DataFrame(accuracies)\n",
    "\n",
    "print(accuracy_df)"
   ]
  },
  {
   "cell_type": "code",
   "execution_count": 96,
   "id": "68289962",
   "metadata": {},
   "outputs": [
    {
     "name": "stdout",
     "output_type": "stream",
     "text": [
      "                 Model Accuracy\n",
      "4       Neural Network   96.32%\n",
      "2        Random Forest   96.09%\n",
      "3              XGBoost   96.09%\n",
      "1        Decision Tree   94.03%\n",
      "0  Logistic Regression   86.33%\n",
      "The best model is Neural Network with an accuracy of 96.32%.\n"
     ]
    }
   ],
   "source": [
    "accuracy_df_sorted = accuracy_df.sort_values(by='Accuracy', ascending=False)\n",
    "\n",
    "print(accuracy_df_sorted)\n",
    "\n",
    "best_model = accuracy_df_sorted.iloc[0]['Model']\n",
    "best_accuracy = accuracy_df_sorted.iloc[0]['Accuracy']\n",
    "print(f\"The best model is {best_model} with an accuracy of {best_accuracy}.\")"
   ]
  },
  {
   "cell_type": "markdown",
   "id": "c982d2b0",
   "metadata": {},
   "source": [
    "# Prediction via User Input"
   ]
  },
  {
   "cell_type": "code",
   "execution_count": 97,
   "id": "c43abf25",
   "metadata": {},
   "outputs": [
    {
     "name": "stdout",
     "output_type": "stream",
     "text": [
      "WARNING:tensorflow:Detecting that an object or model or tf.train.Checkpoint is being deleted with unrestored values. See the following logs for the specific values in question. To silence these warnings, use `status.expect_partial()`. See https://www.tensorflow.org/api_docs/python/tf/train/Checkpoint#restorefor details about the status object returned by the restore function.\n",
      "WARNING:tensorflow:Value in checkpoint could not be found in the restored object: (root).optimizer._variables.1\n",
      "WARNING:tensorflow:Value in checkpoint could not be found in the restored object: (root).optimizer._variables.2\n",
      "WARNING:tensorflow:Value in checkpoint could not be found in the restored object: (root).optimizer._variables.3\n",
      "WARNING:tensorflow:Value in checkpoint could not be found in the restored object: (root).optimizer._variables.4\n",
      "WARNING:tensorflow:Value in checkpoint could not be found in the restored object: (root).optimizer._variables.5\n",
      "WARNING:tensorflow:Value in checkpoint could not be found in the restored object: (root).optimizer._variables.6\n",
      "WARNING:tensorflow:Value in checkpoint could not be found in the restored object: (root).optimizer._variables.7\n",
      "WARNING:tensorflow:Value in checkpoint could not be found in the restored object: (root).optimizer._variables.8\n",
      "WARNING:tensorflow:Detecting that an object or model or tf.train.Checkpoint is being deleted with unrestored values. See the following logs for the specific values in question. To silence these warnings, use `status.expect_partial()`. See https://www.tensorflow.org/api_docs/python/tf/train/Checkpoint#restorefor details about the status object returned by the restore function.\n",
      "WARNING:tensorflow:Value in checkpoint could not be found in the restored object: (root).optimizer._variables.1\n",
      "WARNING:tensorflow:Value in checkpoint could not be found in the restored object: (root).optimizer._variables.2\n",
      "WARNING:tensorflow:Value in checkpoint could not be found in the restored object: (root).optimizer._variables.3\n",
      "WARNING:tensorflow:Value in checkpoint could not be found in the restored object: (root).optimizer._variables.4\n",
      "WARNING:tensorflow:Value in checkpoint could not be found in the restored object: (root).optimizer._variables.5\n",
      "WARNING:tensorflow:Value in checkpoint could not be found in the restored object: (root).optimizer._variables.6\n",
      "WARNING:tensorflow:Value in checkpoint could not be found in the restored object: (root).optimizer._variables.7\n",
      "WARNING:tensorflow:Value in checkpoint could not be found in the restored object: (root).optimizer._variables.8\n",
      "1/1 [==============================] - 0s 90ms/step\n",
      "Logistic Regression predicts the user not to churn.\n",
      "Decision Tree predicts the user not to churn.\n",
      "Random Forest predicts the user not to churn.\n",
      "XGBoost predicts the user not to churn.\n",
      "Neural Network predicts the user not to churn.\n"
     ]
    }
   ],
   "source": [
    "# Define input values from the user\n",
    "user_input = {\n",
    "    'Tenure': 5,\n",
    "    'City_Tier': 0,\n",
    "    'CC_Contacted_LY': 9,\n",
    "    'Payment': 2, \n",
    "    'Gender': 1, \n",
    "    'Service_Score': 4,\n",
    "    'Account_user_count': 4,\n",
    "    'account_segment': 2,  \n",
    "    'CC_Agent_Score': 3,\n",
    "    'rev_per_month': 3,\n",
    "    'Complain_ly': 0,\n",
    "    'rev_growth_yoy': 15,\n",
    "    'coupon_used_for_payment': 1,\n",
    "    'Day_Since_CC_connect': 4,\n",
    "    'cashback': 160,\n",
    "    'Login_device': 1\n",
    "}\n",
    "\n",
    "# user_df = pd.DataFrame([[2.0, 0, 34.0, 1, 0, 3.0, 4.0, 2, 5.0, 2, 2.0, 0.0, 14, 0, 4.0, 138.0, 1]])\n",
    "user_df = pd.DataFrame([user_input])\n",
    "# Scale the input features\n",
    "user_scaled = scaler.transform(user_df)\n",
    "\n",
    "# Logistic Regression\n",
    "user_pred_logreg = logreg_model.predict(user_scaled)\n",
    "\n",
    "# Decision Tree\n",
    "user_pred_dt = dt_model.predict(user_scaled)\n",
    "\n",
    "# Random Forest\n",
    "user_pred_rf = rf_model.predict(user_scaled)\n",
    "\n",
    "# XGBoost\n",
    "user_pred_xgb = xgb_model.predict(user_scaled)\n",
    "\n",
    "# Neural Network\n",
    "user_pred_nn = model_nn.predict(user_scaled)\n",
    "\n",
    "# Print predictions for all models\n",
    "if user_pred_logreg[0] == 1:\n",
    "    print(\"\\nLogistic Regression predicts the user to churn.\")\n",
    "else:\n",
    "    print(\"Logistic Regression predicts the user not to churn.\")\n",
    "\n",
    "if user_pred_dt[0] == 1:\n",
    "    print(\"Decision Tree predicts the user to churn.\")\n",
    "else:\n",
    "    print(\"Decision Tree predicts the user not to churn.\")\n",
    "\n",
    "if user_pred_rf[0] == 1:\n",
    "    print(\"Random Forest predicts the user to churn.\")\n",
    "else:\n",
    "    print(\"Random Forest predicts the user not to churn.\")\n",
    "\n",
    "if user_pred_xgb[0] == 1:\n",
    "    print(\"XGBoost predicts the user to churn.\")\n",
    "else:\n",
    "    print(\"XGBoost predicts the user not to churn.\")\n",
    "\n",
    "if user_pred_nn[0] == 1:\n",
    "    print(\"Neural Network predicts the user to churn.\")\n",
    "else:\n",
    "    print(\"Neural Network predicts the user not to churn.\")\n"
   ]
  },
  {
   "cell_type": "code",
   "execution_count": 98,
   "id": "a222ff29",
   "metadata": {},
   "outputs": [
    {
     "data": {
      "image/png": "[encoded data removed]",
      "text/plain": [
       "<Figure size 1000x600 with 1 Axes>"
      ]
     },
     "metadata": {},
     "output_type": "display_data"
    }
   ],
   "source": [
    "import matplotlib.pyplot as plt\n",
    "import seaborn as sns\n",
    "\n",
    "# Convert accuracies to float for plotting\n",
    "accuracy_df['Accuracy'] = accuracy_df['Accuracy'].str.rstrip('%').astype('float')\n",
    "\n",
    "# Create a bar plot\n",
    "plt.figure(figsize=(10, 6))\n",
    "sns.barplot(x='Accuracy', y='Model', data=accuracy_df.sort_values(by='Accuracy', ascending=False), palette='coolwarm')\n",
    "plt.title('Model Performance Comparison')\n",
    "plt.xlabel('Accuracy (%)')\n",
    "plt.ylabel('Model')\n",
    "plt.show()"
   ]
  },
  {
   "cell_type": "code",
   "execution_count": null,
   "id": "1707b482",
   "metadata": {},
   "outputs": [],
   "source": []
  }
 ],
 "metadata": {
  "kernelspec": {
   "display_name": "Python 3 (ipykernel)",
   "language": "python",
   "name": "python3"
  },
  "language_info": {
   "codemirror_mode": {
    "name": "ipython",
    "version": 3
   },
   "file_extension": ".py",
   "mimetype": "text/x-python",
   "name": "python",
   "nbconvert_exporter": "python",
   "pygments_lexer": "ipython3",
   "version": "3.11.3"
  }
 },
 "nbformat": 4,
 "nbformat_minor": 5
}
